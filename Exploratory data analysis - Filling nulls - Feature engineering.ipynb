{
 "cells": [
  {
   "cell_type": "code",
   "execution_count": 1,
   "metadata": {},
   "outputs": [],
   "source": [
    "import warnings\n",
    "warnings.filterwarnings(\"ignore\")\n",
    "warnings.filterwarnings(\"ignore\", category=DeprecationWarning) "
   ]
  },
  {
   "cell_type": "markdown",
   "metadata": {},
   "source": [
    "# II. Summarizing the data\n",
    "\n",
    "I began by importing the necessary packages:"
   ]
  },
  {
   "cell_type": "code",
   "execution_count": 2,
   "metadata": {},
   "outputs": [],
   "source": [
    "import pandas as pd\n",
    "import numpy as np\n",
    "import scipy as sp\n",
    "import seaborn as sns\n",
    "import matplotlib.pyplot as plt\n",
    "import re\n",
    "import statsmodels.api as sm\n",
    "from scipy.stats.stats import pearsonr\n",
    "from sklearn.preprocessing import StandardScaler\n",
    "from statsmodels.stats.outliers_influence import variance_inflation_factor\n",
    "from statsmodels.tools.tools import add_constant\n",
    "%matplotlib inline\n",
    "sns.set_style('whitegrid')"
   ]
  },
  {
   "cell_type": "markdown",
   "metadata": {},
   "source": [
    "Next I read in the dataframe and did some basic exploratory analysis:"
   ]
  },
  {
   "cell_type": "code",
   "execution_count": 3,
   "metadata": {},
   "outputs": [],
   "source": [
    "df = pd.read_csv('train_housingprices.csv')"
   ]
  },
  {
   "cell_type": "code",
   "execution_count": 4,
   "metadata": {},
   "outputs": [
    {
     "data": {
      "text/html": [
       "<div>\n",
       "<style scoped>\n",
       "    .dataframe tbody tr th:only-of-type {\n",
       "        vertical-align: middle;\n",
       "    }\n",
       "\n",
       "    .dataframe tbody tr th {\n",
       "        vertical-align: top;\n",
       "    }\n",
       "\n",
       "    .dataframe thead th {\n",
       "        text-align: right;\n",
       "    }\n",
       "</style>\n",
       "<table border=\"1\" class=\"dataframe\">\n",
       "  <thead>\n",
       "    <tr style=\"text-align: right;\">\n",
       "      <th></th>\n",
       "      <th>Id</th>\n",
       "      <th>MSSubClass</th>\n",
       "      <th>MSZoning</th>\n",
       "      <th>LotFrontage</th>\n",
       "      <th>LotArea</th>\n",
       "      <th>Street</th>\n",
       "      <th>Alley</th>\n",
       "      <th>LotShape</th>\n",
       "      <th>LandContour</th>\n",
       "      <th>Utilities</th>\n",
       "      <th>...</th>\n",
       "      <th>PoolArea</th>\n",
       "      <th>PoolQC</th>\n",
       "      <th>Fence</th>\n",
       "      <th>MiscFeature</th>\n",
       "      <th>MiscVal</th>\n",
       "      <th>MoSold</th>\n",
       "      <th>YrSold</th>\n",
       "      <th>SaleType</th>\n",
       "      <th>SaleCondition</th>\n",
       "      <th>SalePrice</th>\n",
       "    </tr>\n",
       "  </thead>\n",
       "  <tbody>\n",
       "    <tr>\n",
       "      <th>0</th>\n",
       "      <td>1</td>\n",
       "      <td>60</td>\n",
       "      <td>RL</td>\n",
       "      <td>65.0</td>\n",
       "      <td>8450</td>\n",
       "      <td>Pave</td>\n",
       "      <td>NaN</td>\n",
       "      <td>Reg</td>\n",
       "      <td>Lvl</td>\n",
       "      <td>AllPub</td>\n",
       "      <td>...</td>\n",
       "      <td>0</td>\n",
       "      <td>NaN</td>\n",
       "      <td>NaN</td>\n",
       "      <td>NaN</td>\n",
       "      <td>0</td>\n",
       "      <td>2</td>\n",
       "      <td>2008</td>\n",
       "      <td>WD</td>\n",
       "      <td>Normal</td>\n",
       "      <td>208500</td>\n",
       "    </tr>\n",
       "    <tr>\n",
       "      <th>1</th>\n",
       "      <td>2</td>\n",
       "      <td>20</td>\n",
       "      <td>RL</td>\n",
       "      <td>80.0</td>\n",
       "      <td>9600</td>\n",
       "      <td>Pave</td>\n",
       "      <td>NaN</td>\n",
       "      <td>Reg</td>\n",
       "      <td>Lvl</td>\n",
       "      <td>AllPub</td>\n",
       "      <td>...</td>\n",
       "      <td>0</td>\n",
       "      <td>NaN</td>\n",
       "      <td>NaN</td>\n",
       "      <td>NaN</td>\n",
       "      <td>0</td>\n",
       "      <td>5</td>\n",
       "      <td>2007</td>\n",
       "      <td>WD</td>\n",
       "      <td>Normal</td>\n",
       "      <td>181500</td>\n",
       "    </tr>\n",
       "    <tr>\n",
       "      <th>2</th>\n",
       "      <td>3</td>\n",
       "      <td>60</td>\n",
       "      <td>RL</td>\n",
       "      <td>68.0</td>\n",
       "      <td>11250</td>\n",
       "      <td>Pave</td>\n",
       "      <td>NaN</td>\n",
       "      <td>IR1</td>\n",
       "      <td>Lvl</td>\n",
       "      <td>AllPub</td>\n",
       "      <td>...</td>\n",
       "      <td>0</td>\n",
       "      <td>NaN</td>\n",
       "      <td>NaN</td>\n",
       "      <td>NaN</td>\n",
       "      <td>0</td>\n",
       "      <td>9</td>\n",
       "      <td>2008</td>\n",
       "      <td>WD</td>\n",
       "      <td>Normal</td>\n",
       "      <td>223500</td>\n",
       "    </tr>\n",
       "    <tr>\n",
       "      <th>3</th>\n",
       "      <td>4</td>\n",
       "      <td>70</td>\n",
       "      <td>RL</td>\n",
       "      <td>60.0</td>\n",
       "      <td>9550</td>\n",
       "      <td>Pave</td>\n",
       "      <td>NaN</td>\n",
       "      <td>IR1</td>\n",
       "      <td>Lvl</td>\n",
       "      <td>AllPub</td>\n",
       "      <td>...</td>\n",
       "      <td>0</td>\n",
       "      <td>NaN</td>\n",
       "      <td>NaN</td>\n",
       "      <td>NaN</td>\n",
       "      <td>0</td>\n",
       "      <td>2</td>\n",
       "      <td>2006</td>\n",
       "      <td>WD</td>\n",
       "      <td>Abnorml</td>\n",
       "      <td>140000</td>\n",
       "    </tr>\n",
       "    <tr>\n",
       "      <th>4</th>\n",
       "      <td>5</td>\n",
       "      <td>60</td>\n",
       "      <td>RL</td>\n",
       "      <td>84.0</td>\n",
       "      <td>14260</td>\n",
       "      <td>Pave</td>\n",
       "      <td>NaN</td>\n",
       "      <td>IR1</td>\n",
       "      <td>Lvl</td>\n",
       "      <td>AllPub</td>\n",
       "      <td>...</td>\n",
       "      <td>0</td>\n",
       "      <td>NaN</td>\n",
       "      <td>NaN</td>\n",
       "      <td>NaN</td>\n",
       "      <td>0</td>\n",
       "      <td>12</td>\n",
       "      <td>2008</td>\n",
       "      <td>WD</td>\n",
       "      <td>Normal</td>\n",
       "      <td>250000</td>\n",
       "    </tr>\n",
       "  </tbody>\n",
       "</table>\n",
       "<p>5 rows × 81 columns</p>\n",
       "</div>"
      ],
      "text/plain": [
       "   Id  MSSubClass MSZoning  LotFrontage  LotArea Street Alley LotShape  \\\n",
       "0   1          60       RL         65.0     8450   Pave   NaN      Reg   \n",
       "1   2          20       RL         80.0     9600   Pave   NaN      Reg   \n",
       "2   3          60       RL         68.0    11250   Pave   NaN      IR1   \n",
       "3   4          70       RL         60.0     9550   Pave   NaN      IR1   \n",
       "4   5          60       RL         84.0    14260   Pave   NaN      IR1   \n",
       "\n",
       "  LandContour Utilities    ...     PoolArea PoolQC Fence MiscFeature MiscVal  \\\n",
       "0         Lvl    AllPub    ...            0    NaN   NaN         NaN       0   \n",
       "1         Lvl    AllPub    ...            0    NaN   NaN         NaN       0   \n",
       "2         Lvl    AllPub    ...            0    NaN   NaN         NaN       0   \n",
       "3         Lvl    AllPub    ...            0    NaN   NaN         NaN       0   \n",
       "4         Lvl    AllPub    ...            0    NaN   NaN         NaN       0   \n",
       "\n",
       "  MoSold YrSold  SaleType  SaleCondition  SalePrice  \n",
       "0      2   2008        WD         Normal     208500  \n",
       "1      5   2007        WD         Normal     181500  \n",
       "2      9   2008        WD         Normal     223500  \n",
       "3      2   2006        WD        Abnorml     140000  \n",
       "4     12   2008        WD         Normal     250000  \n",
       "\n",
       "[5 rows x 81 columns]"
      ]
     },
     "execution_count": 4,
     "metadata": {},
     "output_type": "execute_result"
    }
   ],
   "source": [
    "df.head()"
   ]
  },
  {
   "cell_type": "code",
   "execution_count": 5,
   "metadata": {},
   "outputs": [
    {
     "data": {
      "text/plain": [
       "Index(['Id', 'MSSubClass', 'MSZoning', 'LotFrontage', 'LotArea', 'Street',\n",
       "       'Alley', 'LotShape', 'LandContour', 'Utilities', 'LotConfig',\n",
       "       'LandSlope', 'Neighborhood', 'Condition1', 'Condition2', 'BldgType',\n",
       "       'HouseStyle', 'OverallQual', 'OverallCond', 'YearBuilt', 'YearRemodAdd',\n",
       "       'RoofStyle', 'RoofMatl', 'Exterior1st', 'Exterior2nd', 'MasVnrType',\n",
       "       'MasVnrArea', 'ExterQual', 'ExterCond', 'Foundation', 'BsmtQual',\n",
       "       'BsmtCond', 'BsmtExposure', 'BsmtFinType1', 'BsmtFinSF1',\n",
       "       'BsmtFinType2', 'BsmtFinSF2', 'BsmtUnfSF', 'TotalBsmtSF', 'Heating',\n",
       "       'HeatingQC', 'CentralAir', 'Electrical', '1stFlrSF', '2ndFlrSF',\n",
       "       'LowQualFinSF', 'GrLivArea', 'BsmtFullBath', 'BsmtHalfBath', 'FullBath',\n",
       "       'HalfBath', 'BedroomAbvGr', 'KitchenAbvGr', 'KitchenQual',\n",
       "       'TotRmsAbvGrd', 'Functional', 'Fireplaces', 'FireplaceQu', 'GarageType',\n",
       "       'GarageYrBlt', 'GarageFinish', 'GarageCars', 'GarageArea', 'GarageQual',\n",
       "       'GarageCond', 'PavedDrive', 'WoodDeckSF', 'OpenPorchSF',\n",
       "       'EnclosedPorch', '3SsnPorch', 'ScreenPorch', 'PoolArea', 'PoolQC',\n",
       "       'Fence', 'MiscFeature', 'MiscVal', 'MoSold', 'YrSold', 'SaleType',\n",
       "       'SaleCondition', 'SalePrice'],\n",
       "      dtype='object')"
      ]
     },
     "execution_count": 5,
     "metadata": {},
     "output_type": "execute_result"
    }
   ],
   "source": [
    "df.columns"
   ]
  },
  {
   "cell_type": "markdown",
   "metadata": {},
   "source": [
    "First thing I notice is that there is a column called 'Id' which is basically just the original database's way of identifying each house. It isn't relevent here so I will drop it:"
   ]
  },
  {
   "cell_type": "code",
   "execution_count": 6,
   "metadata": {},
   "outputs": [],
   "source": [
    "df.drop('Id',axis=1,inplace=True)"
   ]
  },
  {
   "cell_type": "markdown",
   "metadata": {},
   "source": [
    "With that dropped, we now have 79 explanatory variables related to our variable of interest 'SalePrice'.\n",
    "\n",
    "I want to summarize the dataframe. The numeric ordinal variables are all ratings of quality, so it makes sense to take the 'mean' of them since a rating of 4.5 for quality does seem legitimate."
   ]
  },
  {
   "cell_type": "code",
   "execution_count": 7,
   "metadata": {},
   "outputs": [
    {
     "data": {
      "text/plain": [
       "object     43\n",
       "int64      34\n",
       "float64     3\n",
       "dtype: int64"
      ]
     },
     "execution_count": 7,
     "metadata": {},
     "output_type": "execute_result"
    }
   ],
   "source": [
    "df.dtypes.value_counts()"
   ]
  },
  {
   "cell_type": "markdown",
   "metadata": {},
   "source": [
    "First I will look at a description of the categorical variables:"
   ]
  },
  {
   "cell_type": "code",
   "execution_count": 8,
   "metadata": {},
   "outputs": [
    {
     "data": {
      "text/html": [
       "<div>\n",
       "<style scoped>\n",
       "    .dataframe tbody tr th:only-of-type {\n",
       "        vertical-align: middle;\n",
       "    }\n",
       "\n",
       "    .dataframe tbody tr th {\n",
       "        vertical-align: top;\n",
       "    }\n",
       "\n",
       "    .dataframe thead th {\n",
       "        text-align: right;\n",
       "    }\n",
       "</style>\n",
       "<table border=\"1\" class=\"dataframe\">\n",
       "  <thead>\n",
       "    <tr style=\"text-align: right;\">\n",
       "      <th></th>\n",
       "      <th>MSZoning</th>\n",
       "      <th>Street</th>\n",
       "      <th>Alley</th>\n",
       "      <th>LotShape</th>\n",
       "      <th>LandContour</th>\n",
       "      <th>Utilities</th>\n",
       "      <th>LotConfig</th>\n",
       "      <th>LandSlope</th>\n",
       "      <th>Neighborhood</th>\n",
       "      <th>Condition1</th>\n",
       "      <th>...</th>\n",
       "      <th>GarageType</th>\n",
       "      <th>GarageFinish</th>\n",
       "      <th>GarageQual</th>\n",
       "      <th>GarageCond</th>\n",
       "      <th>PavedDrive</th>\n",
       "      <th>PoolQC</th>\n",
       "      <th>Fence</th>\n",
       "      <th>MiscFeature</th>\n",
       "      <th>SaleType</th>\n",
       "      <th>SaleCondition</th>\n",
       "    </tr>\n",
       "  </thead>\n",
       "  <tbody>\n",
       "    <tr>\n",
       "      <th>count</th>\n",
       "      <td>1460</td>\n",
       "      <td>1460</td>\n",
       "      <td>91</td>\n",
       "      <td>1460</td>\n",
       "      <td>1460</td>\n",
       "      <td>1460</td>\n",
       "      <td>1460</td>\n",
       "      <td>1460</td>\n",
       "      <td>1460</td>\n",
       "      <td>1460</td>\n",
       "      <td>...</td>\n",
       "      <td>1379</td>\n",
       "      <td>1379</td>\n",
       "      <td>1379</td>\n",
       "      <td>1379</td>\n",
       "      <td>1460</td>\n",
       "      <td>7</td>\n",
       "      <td>281</td>\n",
       "      <td>54</td>\n",
       "      <td>1460</td>\n",
       "      <td>1460</td>\n",
       "    </tr>\n",
       "    <tr>\n",
       "      <th>unique</th>\n",
       "      <td>5</td>\n",
       "      <td>2</td>\n",
       "      <td>2</td>\n",
       "      <td>4</td>\n",
       "      <td>4</td>\n",
       "      <td>2</td>\n",
       "      <td>5</td>\n",
       "      <td>3</td>\n",
       "      <td>25</td>\n",
       "      <td>9</td>\n",
       "      <td>...</td>\n",
       "      <td>6</td>\n",
       "      <td>3</td>\n",
       "      <td>5</td>\n",
       "      <td>5</td>\n",
       "      <td>3</td>\n",
       "      <td>3</td>\n",
       "      <td>4</td>\n",
       "      <td>4</td>\n",
       "      <td>9</td>\n",
       "      <td>6</td>\n",
       "    </tr>\n",
       "    <tr>\n",
       "      <th>top</th>\n",
       "      <td>RL</td>\n",
       "      <td>Pave</td>\n",
       "      <td>Grvl</td>\n",
       "      <td>Reg</td>\n",
       "      <td>Lvl</td>\n",
       "      <td>AllPub</td>\n",
       "      <td>Inside</td>\n",
       "      <td>Gtl</td>\n",
       "      <td>NAmes</td>\n",
       "      <td>Norm</td>\n",
       "      <td>...</td>\n",
       "      <td>Attchd</td>\n",
       "      <td>Unf</td>\n",
       "      <td>TA</td>\n",
       "      <td>TA</td>\n",
       "      <td>Y</td>\n",
       "      <td>Gd</td>\n",
       "      <td>MnPrv</td>\n",
       "      <td>Shed</td>\n",
       "      <td>WD</td>\n",
       "      <td>Normal</td>\n",
       "    </tr>\n",
       "    <tr>\n",
       "      <th>freq</th>\n",
       "      <td>1151</td>\n",
       "      <td>1454</td>\n",
       "      <td>50</td>\n",
       "      <td>925</td>\n",
       "      <td>1311</td>\n",
       "      <td>1459</td>\n",
       "      <td>1052</td>\n",
       "      <td>1382</td>\n",
       "      <td>225</td>\n",
       "      <td>1260</td>\n",
       "      <td>...</td>\n",
       "      <td>870</td>\n",
       "      <td>605</td>\n",
       "      <td>1311</td>\n",
       "      <td>1326</td>\n",
       "      <td>1340</td>\n",
       "      <td>3</td>\n",
       "      <td>157</td>\n",
       "      <td>49</td>\n",
       "      <td>1267</td>\n",
       "      <td>1198</td>\n",
       "    </tr>\n",
       "  </tbody>\n",
       "</table>\n",
       "<p>4 rows × 43 columns</p>\n",
       "</div>"
      ],
      "text/plain": [
       "       MSZoning Street Alley LotShape LandContour Utilities LotConfig  \\\n",
       "count      1460   1460    91     1460        1460      1460      1460   \n",
       "unique        5      2     2        4           4         2         5   \n",
       "top          RL   Pave  Grvl      Reg         Lvl    AllPub    Inside   \n",
       "freq       1151   1454    50      925        1311      1459      1052   \n",
       "\n",
       "       LandSlope Neighborhood Condition1      ...      GarageType  \\\n",
       "count       1460         1460       1460      ...            1379   \n",
       "unique         3           25          9      ...               6   \n",
       "top          Gtl        NAmes       Norm      ...          Attchd   \n",
       "freq        1382          225       1260      ...             870   \n",
       "\n",
       "       GarageFinish GarageQual GarageCond PavedDrive PoolQC  Fence  \\\n",
       "count          1379       1379       1379       1460      7    281   \n",
       "unique            3          5          5          3      3      4   \n",
       "top             Unf         TA         TA          Y     Gd  MnPrv   \n",
       "freq            605       1311       1326       1340      3    157   \n",
       "\n",
       "       MiscFeature SaleType SaleCondition  \n",
       "count           54     1460          1460  \n",
       "unique           4        9             6  \n",
       "top           Shed       WD        Normal  \n",
       "freq            49     1267          1198  \n",
       "\n",
       "[4 rows x 43 columns]"
      ]
     },
     "execution_count": 8,
     "metadata": {},
     "output_type": "execute_result"
    }
   ],
   "source": [
    "df.describe(include=object)"
   ]
  },
  {
   "cell_type": "markdown",
   "metadata": {},
   "source": [
    "Next I will look at a description of the numeric variables:\n",
    "    \n",
    "** Note: Some of the numeric variables are actually ordinal, but those ordinal variables refer to quality of a given feature, so I thought it made sense to include them here."
   ]
  },
  {
   "cell_type": "code",
   "execution_count": 9,
   "metadata": {},
   "outputs": [
    {
     "data": {
      "text/html": [
       "<div>\n",
       "<style scoped>\n",
       "    .dataframe tbody tr th:only-of-type {\n",
       "        vertical-align: middle;\n",
       "    }\n",
       "\n",
       "    .dataframe tbody tr th {\n",
       "        vertical-align: top;\n",
       "    }\n",
       "\n",
       "    .dataframe thead th {\n",
       "        text-align: right;\n",
       "    }\n",
       "</style>\n",
       "<table border=\"1\" class=\"dataframe\">\n",
       "  <thead>\n",
       "    <tr style=\"text-align: right;\">\n",
       "      <th></th>\n",
       "      <th>MSSubClass</th>\n",
       "      <th>LotFrontage</th>\n",
       "      <th>LotArea</th>\n",
       "      <th>OverallQual</th>\n",
       "      <th>OverallCond</th>\n",
       "      <th>YearBuilt</th>\n",
       "      <th>YearRemodAdd</th>\n",
       "      <th>MasVnrArea</th>\n",
       "      <th>BsmtFinSF1</th>\n",
       "      <th>BsmtFinSF2</th>\n",
       "      <th>...</th>\n",
       "      <th>WoodDeckSF</th>\n",
       "      <th>OpenPorchSF</th>\n",
       "      <th>EnclosedPorch</th>\n",
       "      <th>3SsnPorch</th>\n",
       "      <th>ScreenPorch</th>\n",
       "      <th>PoolArea</th>\n",
       "      <th>MiscVal</th>\n",
       "      <th>MoSold</th>\n",
       "      <th>YrSold</th>\n",
       "      <th>SalePrice</th>\n",
       "    </tr>\n",
       "  </thead>\n",
       "  <tbody>\n",
       "    <tr>\n",
       "      <th>count</th>\n",
       "      <td>1460.000000</td>\n",
       "      <td>1201.000000</td>\n",
       "      <td>1460.000000</td>\n",
       "      <td>1460.000000</td>\n",
       "      <td>1460.000000</td>\n",
       "      <td>1460.000000</td>\n",
       "      <td>1460.000000</td>\n",
       "      <td>1452.000000</td>\n",
       "      <td>1460.000000</td>\n",
       "      <td>1460.000000</td>\n",
       "      <td>...</td>\n",
       "      <td>1460.000000</td>\n",
       "      <td>1460.000000</td>\n",
       "      <td>1460.000000</td>\n",
       "      <td>1460.000000</td>\n",
       "      <td>1460.000000</td>\n",
       "      <td>1460.000000</td>\n",
       "      <td>1460.000000</td>\n",
       "      <td>1460.000000</td>\n",
       "      <td>1460.000000</td>\n",
       "      <td>1460.000000</td>\n",
       "    </tr>\n",
       "    <tr>\n",
       "      <th>mean</th>\n",
       "      <td>56.897260</td>\n",
       "      <td>70.049958</td>\n",
       "      <td>10516.828082</td>\n",
       "      <td>6.099315</td>\n",
       "      <td>5.575342</td>\n",
       "      <td>1971.267808</td>\n",
       "      <td>1984.865753</td>\n",
       "      <td>103.685262</td>\n",
       "      <td>443.639726</td>\n",
       "      <td>46.549315</td>\n",
       "      <td>...</td>\n",
       "      <td>94.244521</td>\n",
       "      <td>46.660274</td>\n",
       "      <td>21.954110</td>\n",
       "      <td>3.409589</td>\n",
       "      <td>15.060959</td>\n",
       "      <td>2.758904</td>\n",
       "      <td>43.489041</td>\n",
       "      <td>6.321918</td>\n",
       "      <td>2007.815753</td>\n",
       "      <td>180921.195890</td>\n",
       "    </tr>\n",
       "    <tr>\n",
       "      <th>std</th>\n",
       "      <td>42.300571</td>\n",
       "      <td>24.284752</td>\n",
       "      <td>9981.264932</td>\n",
       "      <td>1.382997</td>\n",
       "      <td>1.112799</td>\n",
       "      <td>30.202904</td>\n",
       "      <td>20.645407</td>\n",
       "      <td>181.066207</td>\n",
       "      <td>456.098091</td>\n",
       "      <td>161.319273</td>\n",
       "      <td>...</td>\n",
       "      <td>125.338794</td>\n",
       "      <td>66.256028</td>\n",
       "      <td>61.119149</td>\n",
       "      <td>29.317331</td>\n",
       "      <td>55.757415</td>\n",
       "      <td>40.177307</td>\n",
       "      <td>496.123024</td>\n",
       "      <td>2.703626</td>\n",
       "      <td>1.328095</td>\n",
       "      <td>79442.502883</td>\n",
       "    </tr>\n",
       "    <tr>\n",
       "      <th>min</th>\n",
       "      <td>20.000000</td>\n",
       "      <td>21.000000</td>\n",
       "      <td>1300.000000</td>\n",
       "      <td>1.000000</td>\n",
       "      <td>1.000000</td>\n",
       "      <td>1872.000000</td>\n",
       "      <td>1950.000000</td>\n",
       "      <td>0.000000</td>\n",
       "      <td>0.000000</td>\n",
       "      <td>0.000000</td>\n",
       "      <td>...</td>\n",
       "      <td>0.000000</td>\n",
       "      <td>0.000000</td>\n",
       "      <td>0.000000</td>\n",
       "      <td>0.000000</td>\n",
       "      <td>0.000000</td>\n",
       "      <td>0.000000</td>\n",
       "      <td>0.000000</td>\n",
       "      <td>1.000000</td>\n",
       "      <td>2006.000000</td>\n",
       "      <td>34900.000000</td>\n",
       "    </tr>\n",
       "    <tr>\n",
       "      <th>25%</th>\n",
       "      <td>20.000000</td>\n",
       "      <td>59.000000</td>\n",
       "      <td>7553.500000</td>\n",
       "      <td>5.000000</td>\n",
       "      <td>5.000000</td>\n",
       "      <td>1954.000000</td>\n",
       "      <td>1967.000000</td>\n",
       "      <td>0.000000</td>\n",
       "      <td>0.000000</td>\n",
       "      <td>0.000000</td>\n",
       "      <td>...</td>\n",
       "      <td>0.000000</td>\n",
       "      <td>0.000000</td>\n",
       "      <td>0.000000</td>\n",
       "      <td>0.000000</td>\n",
       "      <td>0.000000</td>\n",
       "      <td>0.000000</td>\n",
       "      <td>0.000000</td>\n",
       "      <td>5.000000</td>\n",
       "      <td>2007.000000</td>\n",
       "      <td>129975.000000</td>\n",
       "    </tr>\n",
       "    <tr>\n",
       "      <th>50%</th>\n",
       "      <td>50.000000</td>\n",
       "      <td>69.000000</td>\n",
       "      <td>9478.500000</td>\n",
       "      <td>6.000000</td>\n",
       "      <td>5.000000</td>\n",
       "      <td>1973.000000</td>\n",
       "      <td>1994.000000</td>\n",
       "      <td>0.000000</td>\n",
       "      <td>383.500000</td>\n",
       "      <td>0.000000</td>\n",
       "      <td>...</td>\n",
       "      <td>0.000000</td>\n",
       "      <td>25.000000</td>\n",
       "      <td>0.000000</td>\n",
       "      <td>0.000000</td>\n",
       "      <td>0.000000</td>\n",
       "      <td>0.000000</td>\n",
       "      <td>0.000000</td>\n",
       "      <td>6.000000</td>\n",
       "      <td>2008.000000</td>\n",
       "      <td>163000.000000</td>\n",
       "    </tr>\n",
       "    <tr>\n",
       "      <th>75%</th>\n",
       "      <td>70.000000</td>\n",
       "      <td>80.000000</td>\n",
       "      <td>11601.500000</td>\n",
       "      <td>7.000000</td>\n",
       "      <td>6.000000</td>\n",
       "      <td>2000.000000</td>\n",
       "      <td>2004.000000</td>\n",
       "      <td>166.000000</td>\n",
       "      <td>712.250000</td>\n",
       "      <td>0.000000</td>\n",
       "      <td>...</td>\n",
       "      <td>168.000000</td>\n",
       "      <td>68.000000</td>\n",
       "      <td>0.000000</td>\n",
       "      <td>0.000000</td>\n",
       "      <td>0.000000</td>\n",
       "      <td>0.000000</td>\n",
       "      <td>0.000000</td>\n",
       "      <td>8.000000</td>\n",
       "      <td>2009.000000</td>\n",
       "      <td>214000.000000</td>\n",
       "    </tr>\n",
       "    <tr>\n",
       "      <th>max</th>\n",
       "      <td>190.000000</td>\n",
       "      <td>313.000000</td>\n",
       "      <td>215245.000000</td>\n",
       "      <td>10.000000</td>\n",
       "      <td>9.000000</td>\n",
       "      <td>2010.000000</td>\n",
       "      <td>2010.000000</td>\n",
       "      <td>1600.000000</td>\n",
       "      <td>5644.000000</td>\n",
       "      <td>1474.000000</td>\n",
       "      <td>...</td>\n",
       "      <td>857.000000</td>\n",
       "      <td>547.000000</td>\n",
       "      <td>552.000000</td>\n",
       "      <td>508.000000</td>\n",
       "      <td>480.000000</td>\n",
       "      <td>738.000000</td>\n",
       "      <td>15500.000000</td>\n",
       "      <td>12.000000</td>\n",
       "      <td>2010.000000</td>\n",
       "      <td>755000.000000</td>\n",
       "    </tr>\n",
       "  </tbody>\n",
       "</table>\n",
       "<p>8 rows × 37 columns</p>\n",
       "</div>"
      ],
      "text/plain": [
       "        MSSubClass  LotFrontage        LotArea  OverallQual  OverallCond  \\\n",
       "count  1460.000000  1201.000000    1460.000000  1460.000000  1460.000000   \n",
       "mean     56.897260    70.049958   10516.828082     6.099315     5.575342   \n",
       "std      42.300571    24.284752    9981.264932     1.382997     1.112799   \n",
       "min      20.000000    21.000000    1300.000000     1.000000     1.000000   \n",
       "25%      20.000000    59.000000    7553.500000     5.000000     5.000000   \n",
       "50%      50.000000    69.000000    9478.500000     6.000000     5.000000   \n",
       "75%      70.000000    80.000000   11601.500000     7.000000     6.000000   \n",
       "max     190.000000   313.000000  215245.000000    10.000000     9.000000   \n",
       "\n",
       "         YearBuilt  YearRemodAdd   MasVnrArea   BsmtFinSF1   BsmtFinSF2  \\\n",
       "count  1460.000000   1460.000000  1452.000000  1460.000000  1460.000000   \n",
       "mean   1971.267808   1984.865753   103.685262   443.639726    46.549315   \n",
       "std      30.202904     20.645407   181.066207   456.098091   161.319273   \n",
       "min    1872.000000   1950.000000     0.000000     0.000000     0.000000   \n",
       "25%    1954.000000   1967.000000     0.000000     0.000000     0.000000   \n",
       "50%    1973.000000   1994.000000     0.000000   383.500000     0.000000   \n",
       "75%    2000.000000   2004.000000   166.000000   712.250000     0.000000   \n",
       "max    2010.000000   2010.000000  1600.000000  5644.000000  1474.000000   \n",
       "\n",
       "           ...         WoodDeckSF  OpenPorchSF  EnclosedPorch    3SsnPorch  \\\n",
       "count      ...        1460.000000  1460.000000    1460.000000  1460.000000   \n",
       "mean       ...          94.244521    46.660274      21.954110     3.409589   \n",
       "std        ...         125.338794    66.256028      61.119149    29.317331   \n",
       "min        ...           0.000000     0.000000       0.000000     0.000000   \n",
       "25%        ...           0.000000     0.000000       0.000000     0.000000   \n",
       "50%        ...           0.000000    25.000000       0.000000     0.000000   \n",
       "75%        ...         168.000000    68.000000       0.000000     0.000000   \n",
       "max        ...         857.000000   547.000000     552.000000   508.000000   \n",
       "\n",
       "       ScreenPorch     PoolArea       MiscVal       MoSold       YrSold  \\\n",
       "count  1460.000000  1460.000000   1460.000000  1460.000000  1460.000000   \n",
       "mean     15.060959     2.758904     43.489041     6.321918  2007.815753   \n",
       "std      55.757415    40.177307    496.123024     2.703626     1.328095   \n",
       "min       0.000000     0.000000      0.000000     1.000000  2006.000000   \n",
       "25%       0.000000     0.000000      0.000000     5.000000  2007.000000   \n",
       "50%       0.000000     0.000000      0.000000     6.000000  2008.000000   \n",
       "75%       0.000000     0.000000      0.000000     8.000000  2009.000000   \n",
       "max     480.000000   738.000000  15500.000000    12.000000  2010.000000   \n",
       "\n",
       "           SalePrice  \n",
       "count    1460.000000  \n",
       "mean   180921.195890  \n",
       "std     79442.502883  \n",
       "min     34900.000000  \n",
       "25%    129975.000000  \n",
       "50%    163000.000000  \n",
       "75%    214000.000000  \n",
       "max    755000.000000  \n",
       "\n",
       "[8 rows x 37 columns]"
      ]
     },
     "execution_count": 9,
     "metadata": {},
     "output_type": "execute_result"
    }
   ],
   "source": [
    "df.describe(include=[int,float])"
   ]
  },
  {
   "cell_type": "markdown",
   "metadata": {},
   "source": [
    "# III. Examining relationships with outcome variable:"
   ]
  },
  {
   "cell_type": "markdown",
   "metadata": {},
   "source": [
    "The [documentation](https://ww2.amstat.org/publications/jse/v19n3/decock/DataDocumentation.txt) for the dataset warned me that there were outliers in the data and I knew that I would be using linear regression which is sensitive to outliers.\n",
    "\n",
    "I decided to look at the distribution for SalePrice:"
   ]
  },
  {
   "cell_type": "code",
   "execution_count": 10,
   "metadata": {},
   "outputs": [
    {
     "data": {
      "text/plain": [
       "<matplotlib.axes._subplots.AxesSubplot at 0x10f755ba8>"
      ]
     },
     "execution_count": 10,
     "metadata": {},
     "output_type": "execute_result"
    },
    {
     "data": {
      "image/png": "[encoded data removed]",
      "text/plain": [
       "<Figure size 648x360 with 1 Axes>"
      ]
     },
     "metadata": {
      "needs_background": "light"
     },
     "output_type": "display_data"
    }
   ],
   "source": [
    "plt.figure(figsize=(9, 5))\n",
    "plt.figtext(.5,.9,'Sale Price Distribution', fontsize=15, ha='center')\n",
    "sns.distplot(df['SalePrice'])"
   ]
  },
  {
   "cell_type": "markdown",
   "metadata": {},
   "source": [
    "It is slightly right skewed which kind of makes sense since most people will be unable to afford super expensive homes. I will look at this later in further detail."
   ]
  },
  {
   "cell_type": "markdown",
   "metadata": {},
   "source": [
    "Next, I chose a few variables I found interesting and examined their relationship with SalePrice:"
   ]
  },
  {
   "cell_type": "markdown",
   "metadata": {},
   "source": [
    "#### First up: 'HouseStyle'"
   ]
  },
  {
   "cell_type": "code",
   "execution_count": 11,
   "metadata": {},
   "outputs": [
    {
     "data": {
      "text/plain": [
       "1Story    726\n",
       "2Story    445\n",
       "1.5Fin    154\n",
       "SLvl       65\n",
       "SFoyer     37\n",
       "1.5Unf     14\n",
       "2.5Unf     11\n",
       "2.5Fin      8\n",
       "Name: HouseStyle, dtype: int64"
      ]
     },
     "execution_count": 11,
     "metadata": {},
     "output_type": "execute_result"
    }
   ],
   "source": [
    "df['HouseStyle'].value_counts()"
   ]
  },
  {
   "cell_type": "markdown",
   "metadata": {},
   "source": [
    "According to the documentation, house style refers to the 'style of dwelling' - ie the number of floors, whether or not they are unfinished, and whether or not they have a floor with 'slanted' walls.\n",
    "\n",
    "For example: 2.5Fin means 2.5 stories where the second floor is finished and there is an additional floor with 'slanted' walls (most likely an attic type space).\n",
    "\n",
    "What I found the most interesting is that roughly half the dataset refers to 1-story homes."
   ]
  },
  {
   "cell_type": "code",
   "execution_count": null,
   "metadata": {},
   "outputs": [],
   "source": [
    "plt.figure(figsize=(15, 8))\n",
    "plt.figtext(.5,.9,'Relationship between Sale Price and Home Style', fontsize=15, ha='center')\n",
    "sns.boxplot(x='HouseStyle',y='SalePrice',data=df,order=['2Story','2.5Fin','1Story','SLvl','SFoyer','1.5Fin','2.5Unf','1.5Unf'])"
   ]
  },
  {
   "cell_type": "markdown",
   "metadata": {},
   "source": [
    "So, again, the points outside the whiskers indicate that there are possible outliers. I will leave them for now and come back to them later. Either way it does appear like there is a correlation between sale price and house style. It looks as though finished homes are worth more than unfinished homes."
   ]
  },
  {
   "cell_type": "markdown",
   "metadata": {},
   "source": [
    "#### Neighborhood\n",
    "\n",
    "Next I looked at the relationship between SalePrice and Neighborhood. There are 25 total neighborhoods."
   ]
  },
  {
   "cell_type": "code",
   "execution_count": null,
   "metadata": {},
   "outputs": [],
   "source": [
    "plt.figure(figsize=(19,10))\n",
    "plt.xticks(rotation=90)\n",
    "plt.figtext(.5,.9,'Relationship between Sale Price and Neighborhood', fontsize=20, ha='center')\n",
    "sns.boxplot(x='Neighborhood',y='SalePrice',data=df)"
   ]
  },
  {
   "cell_type": "markdown",
   "metadata": {},
   "source": [
    "So, the boxplot does seem to indicated a relationship between neighborhood and sale price. I will examine this more rigorously later on after I fill nulls and standardize my data."
   ]
  },
  {
   "cell_type": "markdown",
   "metadata": {},
   "source": [
    "#### YrSold and MoSold\n",
    "\n",
    "I next looked at YrSold:"
   ]
  },
  {
   "cell_type": "code",
   "execution_count": null,
   "metadata": {},
   "outputs": [],
   "source": [
    "plt.figure(figsize=(10, 6))\n",
    "plt.figtext(.5,.9,'Relationship between Sale Price and Year Sold', fontsize=15, ha='center')\n",
    "sns.boxplot(x='YrSold',y='SalePrice',data=df)"
   ]
  },
  {
   "cell_type": "markdown",
   "metadata": {},
   "source": [
    "There doesn't seem to be much of a relationship here. This could be a candidate for deletion later on.\n",
    "\n",
    "How about month sold?"
   ]
  },
  {
   "cell_type": "code",
   "execution_count": null,
   "metadata": {},
   "outputs": [],
   "source": [
    "plt.figure(figsize=(10, 6))\n",
    "plt.figtext(.5,.9,'Relationship between Sale Price and Month Sold', fontsize=15, ha='center')\n",
    "sns.boxplot(x='MoSold',y='SalePrice',data=df)"
   ]
  },
  {
   "cell_type": "markdown",
   "metadata": {},
   "source": [
    "There is some slight variation within the median sale price by month sold but it does appear to be marginal. This could also be a good candidate for deletion."
   ]
  },
  {
   "cell_type": "markdown",
   "metadata": {},
   "source": [
    "#### OverallQual"
   ]
  },
  {
   "cell_type": "code",
   "execution_count": null,
   "metadata": {},
   "outputs": [],
   "source": [
    "plt.figure(figsize=(10, 6))\n",
    "plt.figtext(.5,.9,'Relationship between Sale Price and Overall Quality', fontsize=15, ha='center')\n",
    "sns.boxplot(x='OverallQual',y='SalePrice',data=df)"
   ]
  },
  {
   "cell_type": "markdown",
   "metadata": {},
   "source": [
    "Not super shocking. As quality increases so does the home's sale price.\n",
    "\n",
    "#### OverallCond\n",
    "\n",
    "How about overall condition? This rates the 'overall condition' of the home on a scale from 1-10."
   ]
  },
  {
   "cell_type": "code",
   "execution_count": null,
   "metadata": {},
   "outputs": [],
   "source": [
    "plt.figure(figsize=(12, 9))\n",
    "plt.figtext(.5,.9,'Relationship between Sale Price and Overall Condition', fontsize=15, ha='center')\n",
    "sns.boxplot(x='OverallCond',y='SalePrice',data=df)"
   ]
  },
  {
   "cell_type": "code",
   "execution_count": null,
   "metadata": {},
   "outputs": [],
   "source": [
    "df['OverallCond'].value_counts()"
   ]
  },
  {
   "cell_type": "code",
   "execution_count": null,
   "metadata": {},
   "outputs": [],
   "source": [
    "df['SalePrice'].describe()"
   ]
  },
  {
   "cell_type": "markdown",
   "metadata": {},
   "source": [
    "The above graph is kind of interesting. It initially seems as though overall condition doesn't have the same linear appearing affect on sale price as overall quality does. This somewhat contradicts our intuition that homes in better condition would have a higher sale price.\n",
    "\n",
    "After some further investigating shown above, it seems that 821 homes at roughly ~56% of the dataset has overall condition equal to 5. Similarly, the average sale price for all homes is ~$180,921 which is about the median of OverallCond=5 shown in the graph above. I think this largely explains the discrepancy and the reason why there are so many points shown outside of the whiskers for this particular box."
   ]
  },
  {
   "cell_type": "markdown",
   "metadata": {},
   "source": [
    "#### GrLivingArea\n",
    "\n",
    "Next I looked at the relationship between 'GrLivingArea' (square feet of above ground living area) and sale price:"
   ]
  },
  {
   "cell_type": "code",
   "execution_count": null,
   "metadata": {},
   "outputs": [],
   "source": [
    "plt.figure(figsize=(15, 7))\n",
    "plt.figtext(.5,.9,'Relationship between GrLivArea and Sale Price', fontsize=15, ha='center')\n",
    "sns.scatterplot(x='GrLivArea',y='SalePrice',data=df)"
   ]
  },
  {
   "cell_type": "markdown",
   "metadata": {},
   "source": [
    "The first thing to notice is that there are some outliers. This is also indicated by the documentaton which says that it is recommended to delete any homes with more than 4000 square feet from the dataset.\n",
    "\n",
    "We will do this right now:"
   ]
  },
  {
   "cell_type": "code",
   "execution_count": null,
   "metadata": {},
   "outputs": [],
   "source": [
    "df[df['GrLivArea']>4000]"
   ]
  },
  {
   "cell_type": "code",
   "execution_count": null,
   "metadata": {},
   "outputs": [],
   "source": [
    "df.drop(index=[523,691,1182,1298],inplace=True)"
   ]
  },
  {
   "cell_type": "markdown",
   "metadata": {},
   "source": [
    "Now we can run the above graph again to get a better idea of what is going on:"
   ]
  },
  {
   "cell_type": "code",
   "execution_count": null,
   "metadata": {},
   "outputs": [],
   "source": [
    "plt.figure(figsize=(15, 7))\n",
    "plt.figtext(.5,.9,'Relationship between GrLivArea and Sale Price', fontsize=15, ha='center')\n",
    "sns.scatterplot(x='GrLivArea',y='SalePrice',data=df)"
   ]
  },
  {
   "cell_type": "markdown",
   "metadata": {},
   "source": [
    "First, we notice that the relationship appears linear. Second, we notice that as above ground living area increases, the variance for sale price increases. Either way, this is a promising variable which makes sense because a home's square feet is typically of great interest to potential buyers."
   ]
  },
  {
   "cell_type": "markdown",
   "metadata": {},
   "source": [
    "# IV. Cleaning and standardizing data:\n",
    "> **I. Locating nulls**<br>\n",
    "Here I locate nulls and decide how to deal with them based on whether or not I believe the data is ignorable. <br><br>\n",
    "> **II. Filling nulls**<br>\n",
    "Here I fill the null values of non-ordinal features based on the decision from part 1. <br><br>\n",
    "> **III.** Standardizing data<br>\n",
    "Here I write a function to standardize the numerical columns in my dataframe.<br><br>\n",
    "> **IV.** Dealing with ordinal variables<br>\n",
    "Here I use a 'quality' vector which reassigns the ordinal values to the numerical number associated with their quality. This will prepare the data for the machine learning step.\n",
    "\n"
   ]
  },
  {
   "cell_type": "markdown",
   "metadata": {},
   "source": [
    "## I. Locating nulls\n",
    "\n",
    "My general strategy for this is to find columns with missing values and then decide whether or not the missing data is ignorable or not. After that I will decide whether or not to fill the missing values or just get rid of the column altogether.\n",
    "\n",
    "I will append all of this information to a dataframe that I will consult when filling or deleting the nulls."
   ]
  },
  {
   "cell_type": "code",
   "execution_count": null,
   "metadata": {},
   "outputs": [],
   "source": [
    "missing_dict = {}"
   ]
  },
  {
   "cell_type": "markdown",
   "metadata": {},
   "source": [
    "Find columns with missing values:"
   ]
  },
  {
   "cell_type": "code",
   "execution_count": null,
   "metadata": {
    "scrolled": false
   },
   "outputs": [],
   "source": [
    "df.columns[df.isna().any()].tolist()"
   ]
  },
  {
   "cell_type": "markdown",
   "metadata": {},
   "source": [
    "Now I will go through each variable with missing data and append my findings to the dataframe.\n",
    "\n",
    "## Lot frontage:\n",
    "\n",
    "Lot frontage refers to the length of the front of the property. Presumably this will be correlated with lot area and neighborhod."
   ]
  },
  {
   "cell_type": "code",
   "execution_count": null,
   "metadata": {
    "scrolled": true
   },
   "outputs": [],
   "source": [
    "df[df['LotFrontage'].isna()].index"
   ]
  },
  {
   "cell_type": "markdown",
   "metadata": {},
   "source": [
    "Lot frontage has 259 missing values.\n",
    "\n",
    "It is unclear whether or not this missing data is ignorable.\n",
    "\n",
    "However, I am trying to learn my lesson from the titanic dataset and in this instance will go with the simplest method of filling by the median lot frontage of the home's neighborhood. If I am looking to improve model accuracy later on I will consider a more complicated method of filling null values."
   ]
  },
  {
   "cell_type": "code",
   "execution_count": null,
   "metadata": {},
   "outputs": [],
   "source": [
    "missing_dict['LotFrontage'] = ['Continuous','259',259/1456,'Unclear','Unclear','Fill with median lot frontage of neighborhood']"
   ]
  },
  {
   "cell_type": "markdown",
   "metadata": {},
   "source": [
    "## Alley\n",
    "\n",
    "Refers to the type of alley access to the property."
   ]
  },
  {
   "cell_type": "code",
   "execution_count": null,
   "metadata": {},
   "outputs": [],
   "source": [
    "df['Alley'].value_counts()"
   ]
  },
  {
   "cell_type": "markdown",
   "metadata": {},
   "source": [
    "The documentation states that 'NaN' refers to homes where there is no alley. This and the above suggest that missing values are ignorable."
   ]
  },
  {
   "cell_type": "code",
   "execution_count": null,
   "metadata": {},
   "outputs": [],
   "source": [
    "missing_dict['Alley'] = ['Nominal','1369',1369/1456,'Yes','Seen in documentation','Fill in None']"
   ]
  },
  {
   "cell_type": "markdown",
   "metadata": {},
   "source": [
    "## Masonry\n",
    "\n",
    "There are two variables dedicated to masonry: MasVnrType and MasVnrArea\n",
    "\n",
    "This refers to the type of masonry veneer. If you don't know what this is don't fret because I had no idea either. It basically just refers to whatever type of masonry is put on the outside of the home. It seeems to have mostly aesthetic properties.\n",
    "\n",
    "MasVnrArea refers to masonry veneer area, ie the total square footage decorated with masonry.\n",
    "\n",
    "I wanted to compare nulls for both of these variables since I thought it might help me decide whether or not they were ignorable:"
   ]
  },
  {
   "cell_type": "code",
   "execution_count": null,
   "metadata": {},
   "outputs": [],
   "source": [
    "df['MasVnrType'].value_counts()"
   ]
  },
  {
   "cell_type": "markdown",
   "metadata": {},
   "source": [
    "Looking at nulls for masonry veneer type:"
   ]
  },
  {
   "cell_type": "code",
   "execution_count": null,
   "metadata": {},
   "outputs": [],
   "source": [
    "df[df['MasVnrType'].isna()]"
   ]
  },
  {
   "cell_type": "markdown",
   "metadata": {},
   "source": [
    "Looking at nulls for masonry veneer area:"
   ]
  },
  {
   "cell_type": "code",
   "execution_count": null,
   "metadata": {},
   "outputs": [],
   "source": [
    "df[df['MasVnrArea'].isna()]"
   ]
  },
  {
   "cell_type": "markdown",
   "metadata": {},
   "source": [
    "Since the most common value for masonry veneer type is none and the missing values for masonry veneer and type are eqaul, I will assume that they should be filled with 'none' and remedy that way."
   ]
  },
  {
   "cell_type": "code",
   "execution_count": null,
   "metadata": {},
   "outputs": [],
   "source": [
    "missing_dict['MasVnrType'] = ['Nominal',8,8/1456,'Yes','Incredibly small fraction of dataset & missing values match missing for masonry veneer area','Fill with most common value']"
   ]
  },
  {
   "cell_type": "code",
   "execution_count": null,
   "metadata": {},
   "outputs": [],
   "source": [
    "missing_dict['MasVnrArea'] = ['Continuous',8,8/1456,'Yes','Incredibly small fraction of dataset & missing values match missing for masonry veneer type','Fill with 0']"
   ]
  },
  {
   "cell_type": "markdown",
   "metadata": {},
   "source": [
    "## Basement variables\n",
    "\n",
    "There are five variables that describe characteristics of the home's basement:\n",
    "    1. 'BsmtQual' - evaluates height of the basement\n",
    "    2. 'BsmtCond' - evaluates overall condition of the basement\n",
    "    3. 'BsmtExposure' - refers to walkout or garden level walls\n",
    "    4. 'BsmtFinType1' - rating of basement finished area\n",
    "    5. 'BsmtFinType2' - rating of basement finish area (if multiple types)\n",
    "    \n",
    "Let's investigate the missing values:"
   ]
  },
  {
   "cell_type": "code",
   "execution_count": null,
   "metadata": {},
   "outputs": [],
   "source": [
    "df[['BsmtQual','BsmtCond','BsmtExposure','BsmtFinType1','BsmtFinType2']].info()"
   ]
  },
  {
   "cell_type": "markdown",
   "metadata": {},
   "source": [
    "Observe that we have 37 missing entries for basement quality, condition and finish type 1. There are 38 missing entries for basement exposure and finish type 2.\n",
    "\n",
    "Let's see the possible values for basement quality:"
   ]
  },
  {
   "cell_type": "code",
   "execution_count": null,
   "metadata": {},
   "outputs": [],
   "source": [
    "df['BsmtQual'].value_counts()"
   ]
  },
  {
   "cell_type": "markdown",
   "metadata": {},
   "source": [
    "From the above and the documentation, we can assume that the missing values are ignorable because they just indicate that the home has no basement"
   ]
  },
  {
   "cell_type": "code",
   "execution_count": null,
   "metadata": {},
   "outputs": [],
   "source": [
    "missing_dict['BsmtQual'] = ['Ordinal',37,37/1456,'Yes','Seen in documentation',\"Fill with 'none'\"]"
   ]
  },
  {
   "cell_type": "markdown",
   "metadata": {},
   "source": [
    "Let's check for basement condition:"
   ]
  },
  {
   "cell_type": "code",
   "execution_count": null,
   "metadata": {},
   "outputs": [],
   "source": [
    "df['BsmtCond'].value_counts()"
   ]
  },
  {
   "cell_type": "markdown",
   "metadata": {},
   "source": [
    "Again, the documentation and the above suggest that the missing values are ignorable because these homes have no basement."
   ]
  },
  {
   "cell_type": "code",
   "execution_count": null,
   "metadata": {},
   "outputs": [],
   "source": [
    "missing_dict['BsmtCond'] = ['Ordinal',37,37/1456,'Yes','Seen in documentation',\"Fill with 'none'\"]"
   ]
  },
  {
   "cell_type": "markdown",
   "metadata": {},
   "source": [
    "Check for basement finish type 1:"
   ]
  },
  {
   "cell_type": "code",
   "execution_count": null,
   "metadata": {},
   "outputs": [],
   "source": [
    "df['BsmtFinType1'].value_counts()"
   ]
  },
  {
   "cell_type": "markdown",
   "metadata": {},
   "source": [
    "Again, the documentation and the above suggest that these missing values are ignorable because the homes don't have a basement."
   ]
  },
  {
   "cell_type": "code",
   "execution_count": null,
   "metadata": {},
   "outputs": [],
   "source": [
    "missing_dict['BsmtFinType1'] = ['Ordinal',37,37/1456,'Yes','Seen in documentation',\"Fill with 'none'\"]"
   ]
  },
  {
   "cell_type": "markdown",
   "metadata": {},
   "source": [
    "I also wanted to check to make sure that the homes where basement condition, quality and finish type 1 are all the same. If they are not then this would suggest that I was wrong to classify them as ignorable:"
   ]
  },
  {
   "cell_type": "code",
   "execution_count": null,
   "metadata": {},
   "outputs": [],
   "source": [
    "df[(df['BsmtQual'].isna()) & (df['BsmtCond'].isna()) & (df['BsmtExposure'].isna()) & (df['BsmtFinType1'].isna()) & (df['BsmtFinType2'].isna())].count().head()"
   ]
  },
  {
   "cell_type": "markdown",
   "metadata": {},
   "source": [
    "Okay, yup. All the homes are the same so it is safe to say that none of these homes actually have a basement."
   ]
  },
  {
   "cell_type": "markdown",
   "metadata": {},
   "source": [
    "Lastly I need to investigate basement exposure and finish type 2. These features are interesting because they have one more row with a missing value than the previous basement variables.\n",
    "\n",
    "Let's investigate basement finish type 2 first. My guess is this will be easier to explain."
   ]
  },
  {
   "cell_type": "code",
   "execution_count": null,
   "metadata": {},
   "outputs": [],
   "source": [
    "df['BsmtFinType2'].value_counts()"
   ]
  },
  {
   "cell_type": "markdown",
   "metadata": {},
   "source": [
    "Okay, so it seems likely from the above and from the documentation that the missing values are ignorable because they refer to homes without a basement.\n",
    "\n",
    "I would like to check two things:\n",
    "    1. Are all 37 homes missing basement finish type 1 also missing basement finish type 2?\n",
    "    2. Is there only one home that is not missing basement finish type 1 but is missing basement finish type 2?"
   ]
  },
  {
   "cell_type": "code",
   "execution_count": null,
   "metadata": {},
   "outputs": [],
   "source": [
    "df[(df['BsmtFinType1'].isna()==False) & (df['BsmtFinType2'].isna())]"
   ]
  },
  {
   "cell_type": "code",
   "execution_count": null,
   "metadata": {},
   "outputs": [],
   "source": [
    "df[(df['BsmtFinType1'].isna()) & (df['BsmtFinType2'].isna())].count().head()"
   ]
  },
  {
   "cell_type": "markdown",
   "metadata": {},
   "source": [
    "So, yes. Both of the above questions are correct. This suggests that the missing date for basement finish type 2 is ignorable and refers to homes without a second basement finish type."
   ]
  },
  {
   "cell_type": "code",
   "execution_count": null,
   "metadata": {},
   "outputs": [],
   "source": [
    "missing_dict['BsmtFinType2'] = ['Ordinal',38,38/1456,'Yes','Seen in documentation',\"Fill with 'none'\"]"
   ]
  },
  {
   "cell_type": "markdown",
   "metadata": {},
   "source": [
    "Now it's time to investigate the last basement variable: basement exposure."
   ]
  },
  {
   "cell_type": "code",
   "execution_count": null,
   "metadata": {},
   "outputs": [],
   "source": [
    "df['BsmtExposure'].value_counts()"
   ]
  },
  {
   "cell_type": "markdown",
   "metadata": {},
   "source": [
    "Yeah, from the documentation it appears that the missing values here are because the home has no basement."
   ]
  },
  {
   "cell_type": "code",
   "execution_count": null,
   "metadata": {},
   "outputs": [],
   "source": [
    "missing_dict['BsmtExposure'] = ['Ordinal',38,38/1456,'Yes','Seen in documentation',\"Fill with 'none'\"]"
   ]
  },
  {
   "cell_type": "markdown",
   "metadata": {},
   "source": [
    "## Electrical\n",
    "\n",
    "Refers to the type of electrical system in the home."
   ]
  },
  {
   "cell_type": "code",
   "execution_count": null,
   "metadata": {},
   "outputs": [],
   "source": [
    "df[df['Electrical'].isna()]"
   ]
  },
  {
   "cell_type": "code",
   "execution_count": null,
   "metadata": {},
   "outputs": [],
   "source": [
    "df['Electrical'].value_counts()"
   ]
  },
  {
   "cell_type": "markdown",
   "metadata": {},
   "source": [
    "From the above we see that there is only one missing value and the most common value by far is 'SBrkr' which stands for standard circuit breakers & romex.\n",
    "\n",
    "Since there is only one missing value and most of the homes use 'SBrkr' I'm just going to save myself the trouble and will with that."
   ]
  },
  {
   "cell_type": "code",
   "execution_count": null,
   "metadata": {},
   "outputs": [],
   "source": [
    "missing_dict['Electrical'] = ['Ordinal',1,1/1456,'Yes','Tiny fraction of dataset',\"Fill with 'SBrkr'\"]"
   ]
  },
  {
   "cell_type": "markdown",
   "metadata": {},
   "source": [
    "## Fireplace Quality\n",
    "\n",
    "Pretty obvious. Refers to the quality of the fireplace. Let's investigate:"
   ]
  },
  {
   "cell_type": "code",
   "execution_count": null,
   "metadata": {},
   "outputs": [],
   "source": [
    "df[df['FireplaceQu'].isna()].count().head()"
   ]
  },
  {
   "cell_type": "markdown",
   "metadata": {},
   "source": [
    "There are 690 missing values. We also have another variable called 'fireplaces' which just tells us the number of fireplaces in the home.\n",
    "\n",
    "If there are 690 homes without a fireplace, it would make sense that the 690 missing values for fireplace quality are ignorable."
   ]
  },
  {
   "cell_type": "code",
   "execution_count": null,
   "metadata": {},
   "outputs": [],
   "source": [
    "df[(df['Fireplaces']==0) & (df['FireplaceQu'].isna())].count().head()"
   ]
  },
  {
   "cell_type": "markdown",
   "metadata": {},
   "source": [
    "So yeah, the homes where there is not fireplace are the same homes where fireplace quality is null. This suggests that the missing data is ignorable because it refers to homes without a fireplace."
   ]
  },
  {
   "cell_type": "code",
   "execution_count": null,
   "metadata": {},
   "outputs": [],
   "source": [
    "missing_dict['FireplaceQu'] = ['Ordinal',690,690/1456,'Yes','Seen in documentation',\"Fill with 'None'\"]"
   ]
  },
  {
   "cell_type": "markdown",
   "metadata": {},
   "source": [
    "## Garage variables\n",
    "\n",
    "There are five variables that explain characteristics of a home's garage:\n",
    "    1. Garage type\n",
    "    2. Garage year built\n",
    "    3. Garage finish\n",
    "    4. Garage quality\n",
    "    5. Garage condition"
   ]
  },
  {
   "cell_type": "code",
   "execution_count": null,
   "metadata": {},
   "outputs": [],
   "source": [
    "df[df['GarageType'].isna()].count().head()"
   ]
  },
  {
   "cell_type": "code",
   "execution_count": null,
   "metadata": {},
   "outputs": [],
   "source": [
    "df[df['GarageYrBlt'].isna()].count().head()"
   ]
  },
  {
   "cell_type": "code",
   "execution_count": null,
   "metadata": {},
   "outputs": [],
   "source": [
    "df[df['GarageFinish'].isna()].count().head()"
   ]
  },
  {
   "cell_type": "code",
   "execution_count": null,
   "metadata": {},
   "outputs": [],
   "source": [
    "df[df['GarageQual'].isna()].count().head()"
   ]
  },
  {
   "cell_type": "code",
   "execution_count": null,
   "metadata": {},
   "outputs": [],
   "source": [
    "df[df['GarageCond'].isna()].count().head()"
   ]
  },
  {
   "cell_type": "markdown",
   "metadata": {},
   "source": [
    "We can see that there are 81 missing data points for each of the garage variables. Based on the documentation I will assume that they are ignorable and refer to homes without a garage.\n",
    "\n",
    "Now I will use a for loop to fill the missing dictionary for the garage variables that are ordinal:"
   ]
  },
  {
   "cell_type": "code",
   "execution_count": null,
   "metadata": {},
   "outputs": [],
   "source": [
    "garage_ordinal = ['GarageFinish','GarageQual','GarageCond']"
   ]
  },
  {
   "cell_type": "code",
   "execution_count": null,
   "metadata": {},
   "outputs": [],
   "source": [
    "i=0\n",
    "for i in range(0,len(garage_ordinal)):\n",
    "    missing_dict[garage_ordinal[i]] = ['Ordinal',81,81/1456,'Yes','Documentation',\"Fill with 'None'\"]\n",
    "    i+=1"
   ]
  },
  {
   "cell_type": "markdown",
   "metadata": {},
   "source": [
    "Now I will fill the dictionary for garage type:"
   ]
  },
  {
   "cell_type": "code",
   "execution_count": null,
   "metadata": {},
   "outputs": [],
   "source": [
    "missing_dict['GarageType'] = ['Nominal',81,81/1456,'Yes','Documentation',\"Fill with 'None'\"]"
   ]
  },
  {
   "cell_type": "markdown",
   "metadata": {},
   "source": [
    "I want to investigate GarageYrBlt. I am considering deleting this column because I am going to assume that in most cases it is the same as YrBlt."
   ]
  },
  {
   "cell_type": "code",
   "execution_count": null,
   "metadata": {},
   "outputs": [],
   "source": [
    "plt.figure(figsize=(10, 6))\n",
    "plt.figtext(.5,.9,'Relationship between YearBuilt and GarageYrBlt', fontsize=15, ha='center')\n",
    "sns.scatterplot(x='GarageYrBlt',y='YearBuilt',data=df)"
   ]
  },
  {
   "cell_type": "markdown",
   "metadata": {},
   "source": [
    "Okay, so we see that it is reasonable to suspect that there exists a linear relationship between YearBuilt and GarageYrBlt with some exceptions for homes that had a garage built on later.\n",
    "\n",
    "Strangely, there are a few instances where the garage was built before the actual home. This suggests some kind of data entry error and I will correct this after computing the pearson coefficient.\n",
    "\n",
    "I now want to check the pearson coefficient for both variables. Recall that the pearson coefficient is a measure of the linear relationship between numerical variables. I am classifying 'Year' in this case as numerical in line with the documentation.\n",
    "\n",
    "Since the pearson correlation in SciPy only accepts 1D arrays without null values, I decided to create a function that would modify two columns to meet these requirements and print the desired output."
   ]
  },
  {
   "cell_type": "code",
   "execution_count": null,
   "metadata": {},
   "outputs": [],
   "source": [
    "def pearson_corr(data, col1, col2):\n",
    "    # create list of indices where the columns of interest have null values\n",
    "    index1 = data.index[data[col1].isna()==True].tolist()\n",
    "    index2 = data.index[data[col2].isna()==True].tolist()\n",
    "    # create temporary dataframe and array that drops the rows with indices in the above list\n",
    "    df1 = data.drop(labels=index1+index2)\n",
    "    x = np.array(df1[col1])\n",
    "    y = np.array(df1[col2])\n",
    "    # print pearson correlation\n",
    "    print(\"Pearson correlation:  {:5f}\".format(sp.stats.pearsonr(x,y)[0]))\n",
    "    print(\"2-sided p-value:  {:5f}\".format(sp.stats.pearsonr(x,y)[1]))"
   ]
  },
  {
   "cell_type": "code",
   "execution_count": null,
   "metadata": {},
   "outputs": [],
   "source": [
    "pearson_corr(df,'GarageYrBlt','YearBuilt')"
   ]
  },
  {
   "cell_type": "markdown",
   "metadata": {},
   "source": [
    "Seeing a p-value of 0.0 was strange. I did some research and discovered that SciPy doesn't distinguish between zero and numbers below some threshold where the threshold varies based on the datatype. Since the p-value in this case is below the threshold, it defaults to zero.\n",
    "\n",
    "Whatever this number actually is, it's clear that it is small enough to reject the null hypothesis that these variables are not correlated. Because of this, I will delete the \"GarageYrBlt\" variable later on. Since I plan on deleting this column, I will ignore the values where GarageYrBlt is before YearBuilt."
   ]
  },
  {
   "cell_type": "code",
   "execution_count": null,
   "metadata": {},
   "outputs": [],
   "source": [
    "missing_dict['GarageYrBlt'] = ['Nominal',81,81/1456,'Yes','Documentation','Delete column']"
   ]
  },
  {
   "cell_type": "markdown",
   "metadata": {},
   "source": [
    "## PoolQC\n",
    "\n",
    "This refers to pool quality.\n",
    "\n",
    "First I will check how many nulls there are:"
   ]
  },
  {
   "cell_type": "code",
   "execution_count": null,
   "metadata": {},
   "outputs": [],
   "source": [
    "df[df['PoolQC'].isna()].count().head()"
   ]
  },
  {
   "cell_type": "markdown",
   "metadata": {},
   "source": [
    "Now I will check if the homes where pool quality is null are also homes where pool area (square footage) equals zero. This will suggest that data is ignorable because the missing values refer to homes without a pool."
   ]
  },
  {
   "cell_type": "code",
   "execution_count": null,
   "metadata": {},
   "outputs": [],
   "source": [
    "df[(df['PoolQC'].isna()) & (df['PoolArea']==0)].count().head()"
   ]
  },
  {
   "cell_type": "markdown",
   "metadata": {},
   "source": [
    "Yup, they are both the same. This suggests that the data is ignorable."
   ]
  },
  {
   "cell_type": "code",
   "execution_count": null,
   "metadata": {},
   "outputs": [],
   "source": [
    "missing_dict['PoolQC'] = ['Ordinal',1451,1451/1456,'Yes','Seen in documentation',\"Fill with 'None'\"]"
   ]
  },
  {
   "cell_type": "markdown",
   "metadata": {},
   "source": [
    "## Fence\n",
    "\n",
    "Refers to fence quality. Let's investigate:"
   ]
  },
  {
   "cell_type": "code",
   "execution_count": null,
   "metadata": {},
   "outputs": [],
   "source": [
    "df[df['Fence'].isna()].count().head()"
   ]
  },
  {
   "cell_type": "code",
   "execution_count": null,
   "metadata": {},
   "outputs": [],
   "source": [
    "df['Fence'].value_counts()"
   ]
  },
  {
   "cell_type": "markdown",
   "metadata": {},
   "source": [
    "Based on the above and the documentation the null values are most likely ignorable and refer to homes without a fence."
   ]
  },
  {
   "cell_type": "code",
   "execution_count": null,
   "metadata": {},
   "outputs": [],
   "source": [
    "missing_dict['Fence'] = ['Ordinal',1176,1176/1456,'Yes','Seen in documentation',\"Fill with 'None'\"]"
   ]
  },
  {
   "cell_type": "markdown",
   "metadata": {},
   "source": [
    "## Miscellaneous Feature\n",
    "\n",
    "Refers to homes with miscellaneous features not covered by other categories.\n",
    "\n",
    "Let's investigate:"
   ]
  },
  {
   "cell_type": "code",
   "execution_count": null,
   "metadata": {},
   "outputs": [],
   "source": [
    "df[df['MiscFeature'].isna()].count().head()"
   ]
  },
  {
   "cell_type": "code",
   "execution_count": null,
   "metadata": {},
   "outputs": [],
   "source": [
    "df['MiscFeature'].value_counts()"
   ]
  },
  {
   "cell_type": "markdown",
   "metadata": {},
   "source": [
    "Based on the above and the documentation the missing values are most likely ignorable and refer to homes without miscellaneous features."
   ]
  },
  {
   "cell_type": "code",
   "execution_count": null,
   "metadata": {},
   "outputs": [],
   "source": [
    "missing_dict['MiscFeature'] = ['Nominal',1402,1402/1456,'Yes','Seen in documentation',\"Fill with 'None'\"]"
   ]
  },
  {
   "cell_type": "markdown",
   "metadata": {},
   "source": [
    "### Make a dataframe of information on missing features using the missing_dict created previously:"
   ]
  },
  {
   "cell_type": "code",
   "execution_count": null,
   "metadata": {},
   "outputs": [],
   "source": [
    "missing_df = pd.DataFrame.from_dict(missing_dict,orient='index',columns=['Type of variable','Number of missing data points','Percentage missing of total dataset','Is it ignorable?','Why?','Remedy'])"
   ]
  },
  {
   "cell_type": "markdown",
   "metadata": {},
   "source": [
    "## II. Filling null values:"
   ]
  },
  {
   "cell_type": "code",
   "execution_count": null,
   "metadata": {},
   "outputs": [],
   "source": [
    "missing_df"
   ]
  },
  {
   "cell_type": "code",
   "execution_count": null,
   "metadata": {},
   "outputs": [],
   "source": [
    "df[\"LotFrontage\"] = df.groupby(\"Neighborhood\")['LotFrontage'].apply(lambda x: x.fillna(x.median()))"
   ]
  },
  {
   "cell_type": "code",
   "execution_count": null,
   "metadata": {},
   "outputs": [],
   "source": [
    "for col in missing_df.index.tolist():\n",
    "    # fill columns based on the action outlined by 'Remedy' in missing_df\n",
    "    if missing_df.ix[col]['Remedy'] == \"Fill with 'SBrkr'\":\n",
    "        df[col].fillna('SBrkr',inplace=True)\n",
    "    elif missing_df.ix[col]['Remedy'] == \"Fill with 0\":\n",
    "        df[col].fillna(0,inplace=True)\n",
    "    elif missing_df.ix[col]['Remedy'] == \"Delete column\":\n",
    "        df.drop(columns=col,axis=1,inplace=True)\n",
    "    # the remaining values just say to fill in with none\n",
    "    else:\n",
    "        df[col].fillna('None',inplace=True)"
   ]
  },
  {
   "cell_type": "markdown",
   "metadata": {},
   "source": [
    "Lastly I just want to check that all the nulls were filled:"
   ]
  },
  {
   "cell_type": "code",
   "execution_count": null,
   "metadata": {},
   "outputs": [],
   "source": [
    "df.columns[df.isna().any()].tolist()"
   ]
  },
  {
   "cell_type": "markdown",
   "metadata": {},
   "source": [
    "Perfect! Empty list means all the null values have been filled and we can proceed to the next step."
   ]
  },
  {
   "cell_type": "markdown",
   "metadata": {},
   "source": [
    "## III. Dealing with ordinal variables:"
   ]
  },
  {
   "cell_type": "markdown",
   "metadata": {},
   "source": [
    "The reason I created a separate subsection for ordinal variables is because this dataset has columns with ordinal variables that exist with and without null values. The issue with ordinal variables is not just how to fill the null values but also how to best represent them before the model is executed.\n",
    "\n",
    "Ordinal variables are categorical, which suggests that dummies need to be created for them, but they are also ordered, which opens the possibility of not dummifying them and instead representing them on a continuous scale. The latter take seems reasonable in instances where the dataset represents numerical values of 'quality'. The trick with ordinal variables is to determine whether or not the spacing between quantities is equal- ie to determine whether the difference between one and two the same as the difference between two and three.\n",
    "\n",
    "For this dataset, I will treat ordinal variables that are defined on a numerical scale as continuous. There exists fancier methods for dealing with ordinal variables but I will just use this simple one for now and come back to it later if I want to improve model accuracy."
   ]
  },
  {
   "cell_type": "markdown",
   "metadata": {},
   "source": [
    "First I want to create a 'quality' dictionary which I can use to map the values of the ordinal values that use quality to a number:"
   ]
  },
  {
   "cell_type": "code",
   "execution_count": null,
   "metadata": {},
   "outputs": [],
   "source": [
    "qualities_dict = {'Ex':5, 'Gd':4, 'TA':3, 'Fa':2, 'Po':1, 'None':0, np.nan:0}"
   ]
  },
  {
   "cell_type": "markdown",
   "metadata": {},
   "source": [
    "Now I need to make a list of variables that use the same ranking described in the qualities dictionary:"
   ]
  },
  {
   "cell_type": "code",
   "execution_count": null,
   "metadata": {},
   "outputs": [],
   "source": [
    "qualities_vars = ['ExterQual','HeatingQC','KitchenQual','PoolQC','BsmtQual','BsmtCond','GarageQual','GarageCond','FireplaceQu']"
   ]
  },
  {
   "cell_type": "markdown",
   "metadata": {},
   "source": [
    "Now I need to map each cariable in the above list to the qualities dictionary:"
   ]
  },
  {
   "cell_type": "code",
   "execution_count": null,
   "metadata": {},
   "outputs": [],
   "source": [
    "for col in qualities_vars:\n",
    "    df[col] = df[col].map(qualities_dict)"
   ]
  },
  {
   "cell_type": "markdown",
   "metadata": {},
   "source": [
    "The rest of the ordinal variables have unique rankings so I deal with each individually."
   ]
  },
  {
   "cell_type": "code",
   "execution_count": null,
   "metadata": {},
   "outputs": [],
   "source": [
    "df['LotShape'] = df['LotShape'].map({'Reg':4, 'IR1':3, 'IR2':2, 'IR3':1})"
   ]
  },
  {
   "cell_type": "code",
   "execution_count": null,
   "metadata": {},
   "outputs": [],
   "source": [
    "df['LandSlope'] = df['LandSlope'].map({'Gtl':3, 'Mod':2, 'Sev':1})"
   ]
  },
  {
   "cell_type": "code",
   "execution_count": null,
   "metadata": {},
   "outputs": [],
   "source": [
    "df['Functional'] = df['Functional'].map({'Sal':1, 'Sev':2, 'Maj2':3, 'Maj1':4, 'Mod':5, 'Min2':6, 'Min1':7, 'Typ':8})"
   ]
  },
  {
   "cell_type": "code",
   "execution_count": null,
   "metadata": {},
   "outputs": [],
   "source": [
    "df['PavedDrive'] = df['PavedDrive'].map({'Y':3, 'P':2, 'N':1})"
   ]
  },
  {
   "cell_type": "code",
   "execution_count": null,
   "metadata": {},
   "outputs": [],
   "source": [
    "df['Electrical'] = df['Electrical'].map({'Mix':1, 'FuseP':2, 'FuseF':3, 'FuseA':4, 'SBrkr':5})"
   ]
  },
  {
   "cell_type": "code",
   "execution_count": null,
   "metadata": {},
   "outputs": [],
   "source": [
    "df['Fence'] = df['Fence'].map({'GdPrv':4, 'MnPrv':3, 'GdWo':2, 'MnWw':1, 'None':0})"
   ]
  },
  {
   "cell_type": "code",
   "execution_count": null,
   "metadata": {},
   "outputs": [],
   "source": [
    "df['BsmtExposure'] = df['BsmtExposure'].map({'Gd':4, 'Av':3, 'Mn':2, 'No':1, 'None':0})"
   ]
  },
  {
   "cell_type": "code",
   "execution_count": null,
   "metadata": {},
   "outputs": [],
   "source": [
    "for col in ['BsmtFinType1','BsmtFinType2']:\n",
    "    df[col] = df[col].map({'GLQ':6 ,'ALQ':5, 'BLQ':4, 'Rec':3, 'LwQ':2, 'Unf':1, 'None':0})"
   ]
  },
  {
   "cell_type": "code",
   "execution_count": null,
   "metadata": {},
   "outputs": [],
   "source": [
    "df['GarageFinish'] = df['GarageFinish'].map({'Fin':3, 'RFn':2, 'Unf':1, 'None':0})"
   ]
  },
  {
   "cell_type": "markdown",
   "metadata": {},
   "source": [
    "Okay, to wrap this up I will summarize what I did in this section:\n",
    "\n",
    "First I identified columns with missing values and tried to classify the missing data as ignorable or not. I used this assessment to determine a strategy for filling the nulls. Next I used this strategy to fill the null values and standardize the numerical data. Lastly I converted the ordinal variables to exist on a continuous scale."
   ]
  },
  {
   "cell_type": "markdown",
   "metadata": {},
   "source": [
    "## IV. Standardizing the data\n",
    "\n",
    "For this step I wanted to create a function that would take in a dataframe and do the work of identifying numerical columns and standardizing them for me."
   ]
  },
  {
   "cell_type": "markdown",
   "metadata": {},
   "source": [
    "My plan is write a function that checks the datatype of each column in the dataframe. If the datatype is not 'O' (pandas dataframes store strings as objects) I will standardize it using the standardscaler function from scikit learn. The only issue here is that there are columns that are coded as numbers but are really categorical or ordinal- for example 'MSSubClass,' 'OverallQual' and 'YrSold'. I couldn't really think of a great way to automate deciding which variable was continuous or not so I had to do this step manually."
   ]
  },
  {
   "cell_type": "markdown",
   "metadata": {},
   "source": [
    "First I wanted to check which datatypes were present in the dataframe:"
   ]
  },
  {
   "cell_type": "code",
   "execution_count": null,
   "metadata": {},
   "outputs": [],
   "source": [
    "df.columns.to_series().groupby(df.dtypes).groups"
   ]
  },
  {
   "cell_type": "markdown",
   "metadata": {},
   "source": [
    "As mentioned in the description above, I noticed that some of the int64 datatypes described categorical variables. I will manually convert those to strings:"
   ]
  },
  {
   "cell_type": "code",
   "execution_count": null,
   "metadata": {},
   "outputs": [],
   "source": [
    "cat_vars_miss = ['MSSubClass','YearBuilt','YearRemodAdd','MoSold','YrSold']"
   ]
  },
  {
   "cell_type": "code",
   "execution_count": null,
   "metadata": {},
   "outputs": [],
   "source": [
    "for col in cat_vars_miss:\n",
    "    df[col] = df[col].astype(str)"
   ]
  },
  {
   "cell_type": "code",
   "execution_count": null,
   "metadata": {},
   "outputs": [],
   "source": [
    "df[cat_vars_miss].columns.to_series().groupby(df.dtypes).groups"
   ]
  },
  {
   "cell_type": "markdown",
   "metadata": {},
   "source": [
    "Similarly, the table above indicates that some of the object datatypes describe ordinal variables. Since I have chosen to treat ordinal variables as continuous, I will manually convert these to integers."
   ]
  },
  {
   "cell_type": "code",
   "execution_count": null,
   "metadata": {},
   "outputs": [],
   "source": [
    "ord_vars_miss = ['BsmtQual','BsmtCond','BsmtExposure','Electrical','FireplaceQu','GarageFinish','GarageQual','GarageCond','PoolQC','Fence','LotShape','LandSlope','Functional','BsmtFinType1','BsmtFinType2','GarageFinish','ExterQual','HeatingQC','KitchenQual']"
   ]
  },
  {
   "cell_type": "code",
   "execution_count": null,
   "metadata": {},
   "outputs": [],
   "source": [
    "for col in ord_vars_miss:\n",
    "    df[col] = pd.to_numeric(df[col], errors='ignore')"
   ]
  },
  {
   "cell_type": "code",
   "execution_count": null,
   "metadata": {},
   "outputs": [],
   "source": [
    "df[ord_vars_miss].columns.to_series().groupby(df.dtypes).groups"
   ]
  },
  {
   "cell_type": "markdown",
   "metadata": {},
   "source": [
    "Okay, cool! It worked which means I can now make a function to standardize the data."
   ]
  },
  {
   "cell_type": "code",
   "execution_count": null,
   "metadata": {},
   "outputs": [],
   "source": [
    "def standardize_df(dataf):\n",
    "    scaler = StandardScaler()\n",
    "    num_vars = [None]*len(dataf.columns)\n",
    "    for col in dataf.columns.tolist():\n",
    "        if (dataf[col].dtype == 'int64') or (dataf[col].dtype == 'float64'):\n",
    "            num_vars.append(col)\n",
    "    i = 0\n",
    "    while i<len(num_vars):\n",
    "        if not num_vars[i]:\n",
    "            del num_vars[i]\n",
    "        else:\n",
    "            i+=1\n",
    "    df[num_vars] = scaler.fit_transform(df[num_vars])"
   ]
  },
  {
   "cell_type": "code",
   "execution_count": null,
   "metadata": {},
   "outputs": [],
   "source": [
    "standardize_df(df)"
   ]
  },
  {
   "cell_type": "markdown",
   "metadata": {},
   "source": [
    "# V. Feature Engineering\n",
    "\n",
    "I decided not to focus too much on feature engineering because for this project I was more interested in trying regularization out. If I come back to this project in the future feature engineering and specifically interaction terms is something I will probably work on.\n",
    "\n",
    "However, there were a few variables in this dataset that really bothered me and that I wanted to do something with."
   ]
  },
  {
   "cell_type": "markdown",
   "metadata": {},
   "source": [
    "### Utilities\n",
    "\n",
    "Utilities has two classes one of which only applies to a single row in the dataset. I will delete this column."
   ]
  },
  {
   "cell_type": "code",
   "execution_count": null,
   "metadata": {},
   "outputs": [],
   "source": [
    "df['Utilities'].value_counts()"
   ]
  },
  {
   "cell_type": "code",
   "execution_count": null,
   "metadata": {},
   "outputs": [],
   "source": [
    "df.drop('Utilities',axis=1,inplace=True)"
   ]
  },
  {
   "cell_type": "markdown",
   "metadata": {},
   "source": [
    "### Miscellaneous features"
   ]
  },
  {
   "cell_type": "code",
   "execution_count": null,
   "metadata": {},
   "outputs": [],
   "source": [
    "df['MiscVal'].value_counts()"
   ]
  },
  {
   "cell_type": "code",
   "execution_count": null,
   "metadata": {},
   "outputs": [],
   "source": [
    "pearson_corr(df,'MiscVal','SalePrice')"
   ]
  },
  {
   "cell_type": "markdown",
   "metadata": {},
   "source": [
    "P-value too large to reject the null hypothesis that MiscVal and SalePrice are not correlated."
   ]
  },
  {
   "cell_type": "code",
   "execution_count": null,
   "metadata": {},
   "outputs": [],
   "source": [
    "df['MiscFeature'].value_counts()"
   ]
  },
  {
   "cell_type": "markdown",
   "metadata": {},
   "source": [
    "Based on the results for the pearson correlation I am skeptical that miscellaneous features are a meaningful indication of sale price. That being said, I really don't like deleting information. My compromise is that I will alter MiscFeature to describe whether or not a home has one. If I come back to this in the future this would be a good instance to use an interaction term."
   ]
  },
  {
   "cell_type": "code",
   "execution_count": null,
   "metadata": {},
   "outputs": [],
   "source": [
    "df['MiscFeature'] = df['MiscFeature'].map({'None':0, 'Shed':1, 'Othr':1, 'Gar2':1, 'TenC':1})"
   ]
  },
  {
   "cell_type": "markdown",
   "metadata": {},
   "source": [
    "### <b> MoSold </b> and <b> YrSold </b>\n",
    "\n",
    "I want to check if the month and year in which a home is sold is a good indication of sale price.\n",
    "\n",
    "Because month and year sold are both categorical variables, I couldn't use a pearson correlation and instead opted to create a function that would basically conduct ANOVA for me."
   ]
  },
  {
   "cell_type": "code",
   "execution_count": null,
   "metadata": {},
   "outputs": [],
   "source": [
    "# ANOVA for categorical variables\n",
    "def anova_categorical(data, dependent_var, regex, independent_var):\n",
    "    cat_df = data.filter([independent_var, dependent_var], axis=1)\n",
    "    cat_df = pd.get_dummies(data=cat_df, columns=[independent_var], drop_first=True)\n",
    "    \n",
    "    # create constant term to estimate y-intercept\n",
    "    cat_df['constant'] = 1\n",
    "    \n",
    "    # finds all iterations of categorical variable after they have been one hot encoded and adds them to a list\n",
    "    pattern = re.compile(regex)\n",
    "    matches = [x for x in cat_df.columns if pattern.match(x)]\n",
    "    \n",
    "    # adds constant term to list\n",
    "    matches.append('constant')\n",
    "    \n",
    "    # create regression model, get estimates, print summary\n",
    "    regression = sm.OLS(endog=cat_df[dependent_var], exog=cat_df[matches], missing='drop')\n",
    "    results = regression.fit()\n",
    "    print(results.summary())"
   ]
  },
  {
   "cell_type": "markdown",
   "metadata": {},
   "source": [
    "Running for MoSold and sale price:"
   ]
  },
  {
   "cell_type": "code",
   "execution_count": null,
   "metadata": {},
   "outputs": [],
   "source": [
    "anova_categorical(data=df, dependent_var='SalePrice', regex=r'^MoSold', independent_var='MoSold')"
   ]
  },
  {
   "cell_type": "markdown",
   "metadata": {},
   "source": [
    "Running for YrSold and sale price:"
   ]
  },
  {
   "cell_type": "code",
   "execution_count": null,
   "metadata": {},
   "outputs": [],
   "source": [
    "anova_categorical(data=df, dependent_var='SalePrice', regex=r'^YrSold', independent_var='YrSold')"
   ]
  },
  {
   "cell_type": "markdown",
   "metadata": {},
   "source": [
    "As we can see from the p-values associated with the coefficients for year and month sold, none of them are statistically significant at the 5% or even the 10% level. Additionally, the F-statistic and associated p-value indicated by Prob(F-statistic) suggests that we should fail to reject the null hypothesis that the regression coefficients are equal to zero at the 5% or even 10% level. I did not consider heteroskedasticity in this instance because heteroskedasticity tends to understate p-values, and if it is present, the p-values would still be large enough to fail to reject the null hypothesis at the 5 or 10% level. Because of these findings, it seems reasonable to delete both of these features.\n",
    "\n",
    "Normally since I plan on using regularization I would just ignore them and let regularization shrink them as fit, but both variables are categorical and would require one hot encoding so I am looking to reduce the dimension of the dataset."
   ]
  },
  {
   "cell_type": "code",
   "execution_count": null,
   "metadata": {},
   "outputs": [],
   "source": [
    "df.drop(columns=['MoSold','YrSold'], axis=1, inplace=True)"
   ]
  },
  {
   "cell_type": "markdown",
   "metadata": {},
   "source": [
    "### YearBuilt and YearRemodAdd\n",
    "\n",
    "I have two concerns regarding year built and year remod/add. My first concern is how to best represent the data and whether or not I should treat the individual years as categorical vs continuous. My second concern is the linear relationship between year built and year remodeled/add. For homes that were not remodeled, the year for year remodeled/added is the same as the year built which seems a bit misleading.\n",
    "\n",
    "First I will do some investigating and begin by exploring the relationship between sale price and year built:"
   ]
  },
  {
   "cell_type": "code",
   "execution_count": null,
   "metadata": {
    "scrolled": false
   },
   "outputs": [],
   "source": [
    "anova_categorical(data=df, dependent_var='SalePrice', regex=r'^YearBuilt', independent_var='YearBuilt')"
   ]
  },
  {
   "cell_type": "markdown",
   "metadata": {},
   "source": [
    "The above results are interesting. We can see that most of the coefficients are not statistically significant despite the F-statistic and associated p-value being statistically significant. This suggests multicollinearity. Besides this, we see that more recent years are statistically significant. The R^2 and adjusted R^2 are also both relatively high. I think what I will do to both guard against multicollinearity and decrease dimension is keep these as dummy variables and bin them in 15 bins of equal width."
   ]
  },
  {
   "cell_type": "code",
   "execution_count": null,
   "metadata": {},
   "outputs": [],
   "source": [
    "# first need to convert column from string to integer\n",
    "df['YearBuilt'] = df['YearBuilt'].astype(int)\n",
    "\n",
    "# create 15 equal length bins\n",
    "df['YearBuilt'] = pd.cut(x=df['YearBuilt'], bins=15)"
   ]
  },
  {
   "cell_type": "code",
   "execution_count": null,
   "metadata": {},
   "outputs": [],
   "source": [
    "anova_categorical(data=df, dependent_var='SalePrice', regex=r'^YearRemodAdd', independent_var='YearRemodAdd')"
   ]
  },
  {
   "cell_type": "markdown",
   "metadata": {},
   "source": [
    "The above results are also interesting. We can see that most of the years are statistically significant with the outcome variable. My guess is that the discrepancy in signficance between year built and year remod/add is due to older homes being remodeled which increases their sale price. I will bin year remod/add into groups of ten. This could be a useful place to insert an interaction term."
   ]
  },
  {
   "cell_type": "code",
   "execution_count": null,
   "metadata": {},
   "outputs": [],
   "source": [
    "df['YearRemodAdd'] = df['YearRemodAdd'].astype(int)"
   ]
  },
  {
   "cell_type": "code",
   "execution_count": null,
   "metadata": {},
   "outputs": [],
   "source": [
    "df['YearRemodAdd'] = pd.cut(x=df['YearRemodAdd'], bins=10)"
   ]
  },
  {
   "cell_type": "markdown",
   "metadata": {},
   "source": [
    "Later on I will compare models that encode categorical variables differently. For this reason I will read the transformed dataframe into a csv file so I can use it later."
   ]
  },
  {
   "cell_type": "code",
   "execution_count": null,
   "metadata": {},
   "outputs": [],
   "source": [
    "df.to_csv('transformed_dataframe1.csv',index=False)"
   ]
  },
  {
   "cell_type": "markdown",
   "metadata": {},
   "source": [
    "# VI. Addressing multicollinearity\n",
    "\n",
    "One concern that I had working with this dataset was both the presence and degree of multicollinearity. Multicollinearity occurs when two or more predictor variables are highly correlated- ie when one is a perfect or near perfect linear combination of another. Because the dataset includes multiple features that describe characteristics of the same thing, for example 4 variables describing different characteristics of a home's garage, I thought it a topic worth exploring. Also it's fun.\n",
    "\n",
    "In regression analysis, the presence of multicollinearity can lead to extremely large variances for coefficient estimates. This can be an issue if you are interested in testing coefficients for statistical significance. Your coefficients will be unbiased and consistent, but the large variances will generate smaller t-statistics which can limit your ability to conduct accurate hypothesis tests. Similarly, these large variances can cause coefficients to 'swing' wildly when new data is introduced and complicate model interpretability by making it difficult to determine feature importance and to establish precise relationships between independent and dependent variables.\n",
    "\n",
    "In random forests, multicollinearity can similarly complicate the ability to determine feature importance. Random forest works by averaging decision trees which divide the predictor space based on which variables will have the largest reduction in RSS (when target variable is continuous) or gini index/cross-entropy (when target variable is binary). Because of this, if two features are highly correlated and one is selected as the predictor, the second feature's ability to decrease the loss function will drop dramatically because the first feature will already have captured most of that decrease. This can make the task of determining feature importance difficult because it can lead the second variable to be inaccurately labeled unimportant. Of course if determining feature importance is not of interest then this is a non-issue.\n",
    "\n",
    "One obvious way of determining multicollinearity is by looking at correlations among pairs of predictors. This however can be a bit more tedious if the variable types you are looking to compare are different, ie comparing a categorical and continuous variable. Additionally, pairwise correlation can obviously only capture relationships between two variables and it is possible that linear dependence exists between three or more variables. Another method is to check if the t-tests for individual coefficients are non-significant but the overall F-test for all slopes is jointly significant. One can also use something called varation inflation factors (VIF) which is basically a number that states how much the variance of each coefficient is overinflated. One drawback of VIF is that it doesn't state which features your variable is correlated with and VIF is not defined for categorical variables.\n",
    "\n",
    "I decided to investigate multicollinearity in this dataset by first calculating the VIF of each feature. The 'rule of thumb' for VIF is that if it's greater than 5 it's worth investigating, and if it's greater than 10 there is serious presence of multicollinearity and it is reasonable to delete variables. After I calculate the VIF I will examine groups of variables with VIF greater than 5 by regressing those groups on sale price and eachother and examining the coefficients."
   ]
  },
  {
   "cell_type": "code",
   "execution_count": null,
   "metadata": {},
   "outputs": [],
   "source": [
    "# Created function that calculates VIF for each feature and returns a table of features with VIF greater than some threshold set by the user\n",
    "def vif_(data, dependent_var, threshold):\n",
    "    \n",
    "    # locates numerical variables and appends them to a list\n",
    "    num_vars = [dependent_var]\n",
    "    for col in df.columns:\n",
    "        if (df[col].dtype=='int64') or (df[col].dtype=='float64'):\n",
    "            num_vars.append(col)\n",
    "        else:\n",
    "            pass\n",
    "    \n",
    "    # creates dataframe of numeric variables and a constant to be used as a y-intercept\n",
    "    vif_df = df[num_vars]\n",
    "    vif_df['constant'] = 1\n",
    "\n",
    "    # creates VIF dataframe and calculates VIF for each feature\n",
    "    vif = pd.DataFrame()\n",
    "    vif[\"VIF Factor\"] = [variance_inflation_factor(vif_df.drop(dependent_var, axis=1).values, i) for i in range(vif_df.drop(dependent_var, axis=1).shape[1])]\n",
    "    vif[\"Feature\"] = vif_df.drop(dependent_var, axis=1).columns\n",
    "    vif = vif.set_index('Feature')\n",
    "    \n",
    "    # returns features with a VIF greater than the threshold set by the user\n",
    "    print('Features where VIF > {}'.format(threshold))\n",
    "    return vif[vif['VIF Factor']>threshold]"
   ]
  },
  {
   "cell_type": "code",
   "execution_count": null,
   "metadata": {},
   "outputs": [],
   "source": [
    "vif_(data=df, dependent_var='SalePrice', threshold=5)"
   ]
  },
  {
   "cell_type": "markdown",
   "metadata": {},
   "source": [
    "When VIF is infinity that suggests that there exists perfect collinearity between features. I decided to investigate this further before deleting features. I noticed that the features with high VIF were either related to square footage, the garage or pool. I decided to investigate these three groups independently of eachother.\n",
    "\n",
    "First I regressed the variables related to square footage on the total basement square footage:"
   ]
  },
  {
   "cell_type": "code",
   "execution_count": null,
   "metadata": {},
   "outputs": [],
   "source": [
    "regression = sm.OLS(endog=df['TotalBsmtSF'], exog=df[['BsmtFinSF1','BsmtFinSF2','BsmtUnfSF','1stFlrSF','2ndFlrSF','GrLivArea']], missing='drop')\n",
    "results = regression.fit()\n",
    "print(results.summary())"
   ]
  },
  {
   "cell_type": "markdown",
   "metadata": {},
   "source": [
    "This is pretty much in line with what I expected and what makes sense. The variables describing basement square footage are statistically significant at the 5% level with the other three variables describing square footage of various parts of the basement. The R^2 and adjusted R^2 are both 1 which suggests a perfect linear fit. This makes sense because total basement square footage will be a perfect linear combination of the other variables related to basement square footage. I will delete 'BsmtFinSF1', 'BsmtFinSF2' and 'BsmtUnfSF'.\n",
    "\n",
    "The other square footage variables are not significant at the 5 of even 10% level. I will treat them separately."
   ]
  },
  {
   "cell_type": "code",
   "execution_count": null,
   "metadata": {},
   "outputs": [],
   "source": [
    "df.drop(columns=['LowQualFinSF','BsmtFinSF1','BsmtFinSF2','BsmtUnfSF'], axis=1, inplace=True)"
   ]
  },
  {
   "cell_type": "markdown",
   "metadata": {},
   "source": [
    "Next I regressed '1stFlrSF' and '2ndFlrSF' on 'GrLivArea'. I expect them to be a perfect or near perfect linear combination because 'GrLivArea' describes the total above ground square footage."
   ]
  },
  {
   "cell_type": "code",
   "execution_count": null,
   "metadata": {},
   "outputs": [],
   "source": [
    "regression = sm.OLS(endog=df['GrLivArea'], exog=df[['1stFlrSF','2ndFlrSF']], missing='drop')\n",
    "results = regression.fit()\n",
    "print(results.summary())"
   ]
  },
  {
   "cell_type": "markdown",
   "metadata": {},
   "source": [
    "Yup, the coefficients are significant at the 5% level and both R^2 and adjusted R^2 suggest a 99% fit. I will delete '1stFlrSF' and '2ndFlrSF'."
   ]
  },
  {
   "cell_type": "code",
   "execution_count": null,
   "metadata": {},
   "outputs": [],
   "source": [
    "df.drop(columns=['1stFlrSF','2ndFlrSF'], axis=1, inplace=True)"
   ]
  },
  {
   "cell_type": "markdown",
   "metadata": {},
   "source": [
    "Next I investigated the variables related to garages."
   ]
  },
  {
   "cell_type": "code",
   "execution_count": null,
   "metadata": {},
   "outputs": [],
   "source": [
    "regression = sm.OLS(endog=df['GarageQual'], exog=df[['GarageCars','GarageArea','GarageCond']], missing='drop')\n",
    "results = regression.fit()\n",
    "print(results.summary())"
   ]
  },
  {
   "cell_type": "markdown",
   "metadata": {},
   "source": [
    "The above summary suggests that both garage area and condition are statistically significant and good indicators of garage quality although garage area has a more marginal effect. I will also check the pearson correlation between garage condition and quality:"
   ]
  },
  {
   "cell_type": "code",
   "execution_count": null,
   "metadata": {},
   "outputs": [],
   "source": [
    "pearson_corr(data=df, col1='GarageQual', col2='GarageCond')"
   ]
  },
  {
   "cell_type": "markdown",
   "metadata": {},
   "source": [
    "Yeah, garage condition and quality are highly correlated. I will choose which one to drop based on the sparsity of the classes:"
   ]
  },
  {
   "cell_type": "code",
   "execution_count": null,
   "metadata": {},
   "outputs": [],
   "source": [
    "df['GarageQual'].value_counts()"
   ]
  },
  {
   "cell_type": "code",
   "execution_count": null,
   "metadata": {},
   "outputs": [],
   "source": [
    "df['GarageCond'].value_counts()"
   ]
  },
  {
   "cell_type": "markdown",
   "metadata": {},
   "source": [
    "Garage quality is slightly less sparse so I will keep that and delete garage condition."
   ]
  },
  {
   "cell_type": "code",
   "execution_count": null,
   "metadata": {},
   "outputs": [],
   "source": [
    "df.drop(columns='GarageCond', axis=1, inplace=True)"
   ]
  },
  {
   "cell_type": "code",
   "execution_count": null,
   "metadata": {},
   "outputs": [],
   "source": [
    "regression = sm.OLS(endog=df['GarageCars'], exog=df[['GarageQual','GarageArea']], missing='drop')\n",
    "results = regression.fit()\n",
    "print(results.summary())"
   ]
  },
  {
   "cell_type": "markdown",
   "metadata": {},
   "source": [
    "Both garage quality and area are statistically significant predictors of garage cars (number of cars that will fit in the garage). The R^2 is high at 79.6% of the data. I will examine the pearson correlation between garage cars and area:"
   ]
  },
  {
   "cell_type": "code",
   "execution_count": null,
   "metadata": {},
   "outputs": [],
   "source": [
    "pearson_corr(data=df, col1='GarageCars', col2='GarageArea')"
   ]
  },
  {
   "cell_type": "markdown",
   "metadata": {},
   "source": [
    "Yeah, as expected the correlation is large and statistically significant. I will delete 'GarageCars' because it is an ordinal variable and I would rather keep the continuous variable."
   ]
  },
  {
   "cell_type": "code",
   "execution_count": null,
   "metadata": {},
   "outputs": [],
   "source": [
    "df.drop(columns='GarageCars', axis=1, inplace=True)"
   ]
  },
  {
   "cell_type": "markdown",
   "metadata": {},
   "source": [
    "Lastly I will look at the variables related to pool:"
   ]
  },
  {
   "cell_type": "code",
   "execution_count": null,
   "metadata": {},
   "outputs": [],
   "source": [
    "pearson_corr(data=df, col1='PoolArea', col2='PoolQC')"
   ]
  },
  {
   "cell_type": "markdown",
   "metadata": {},
   "source": [
    "I wanted to look at the relationship between pool area and quality with sale price:"
   ]
  },
  {
   "cell_type": "code",
   "execution_count": null,
   "metadata": {},
   "outputs": [],
   "source": [
    "regression = sm.OLS(endog=df['SalePrice'], exog=df[['PoolArea','PoolQC']], missing='drop')\n",
    "results = regression.fit()\n",
    "print(results.summary())"
   ]
  },
  {
   "cell_type": "markdown",
   "metadata": {},
   "source": [
    "Yeah, the p-values for the coefficients and F-statistic are not statistically significant and both R^2 and adjusted R^2 is tiny. I think I will delete both of these."
   ]
  },
  {
   "cell_type": "code",
   "execution_count": null,
   "metadata": {},
   "outputs": [],
   "source": [
    "df.drop(columns=['PoolArea','PoolQC'], axis=1, inplace=True)"
   ]
  },
  {
   "cell_type": "markdown",
   "metadata": {},
   "source": [
    "Okay, lastly I will re-run the VIF function with the same threshold to see if the issue is resolved:"
   ]
  },
  {
   "cell_type": "code",
   "execution_count": null,
   "metadata": {},
   "outputs": [],
   "source": [
    "vif_(data=df, dependent_var='SalePrice', threshold=5)"
   ]
  },
  {
   "cell_type": "markdown",
   "metadata": {},
   "source": [
    "Hmm... there is one factor remaining with a high VIF but I'm not sure what it could be correlated with. I don't really want to delete this variable because I think square footage is generally a good indicator of sale price. I think what I will do is create a new variable called 'TotalSF' which is 'GrLivArea' + 'TotalBsmtSF'."
   ]
  },
  {
   "cell_type": "code",
   "execution_count": null,
   "metadata": {},
   "outputs": [],
   "source": [
    "df['TotalSF'] = df['GrLivArea'] + df['TotalBsmtSF']"
   ]
  },
  {
   "cell_type": "code",
   "execution_count": null,
   "metadata": {},
   "outputs": [],
   "source": [
    "regression = sm.OLS(endog=df['SalePrice'], exog=df[['TotalSF','GrLivArea','TotalBsmtSF']], missing='drop')\n",
    "results = regression.fit()\n",
    "print(results.summary())"
   ]
  },
  {
   "cell_type": "code",
   "execution_count": null,
   "metadata": {},
   "outputs": [],
   "source": [
    "vif_(data=df, dependent_var='SalePrice', threshold=5)"
   ]
  },
  {
   "cell_type": "markdown",
   "metadata": {},
   "source": [
    "Okay, yeah, it's a good indicator but obviously 'TotalSF' is a perfect linear combination of both total basement square footage and above ground living area square footage. I'll delete the latter two and keep the new variable."
   ]
  },
  {
   "cell_type": "code",
   "execution_count": null,
   "metadata": {},
   "outputs": [],
   "source": [
    "df.drop(columns=['TotalBsmtSF','GrLivArea'], axis=1, inplace=True)"
   ]
  },
  {
   "cell_type": "code",
   "execution_count": null,
   "metadata": {},
   "outputs": [],
   "source": [
    "vif_(data=df, dependent_var='SalePrice', threshold=5)"
   ]
  },
  {
   "cell_type": "markdown",
   "metadata": {},
   "source": [
    "Okay, I now no longer have any features with VIF greater than 5. I will proceed to the next step."
   ]
  },
  {
   "cell_type": "markdown",
   "metadata": {},
   "source": [
    "# VII. Getting dummy variables\n",
    "\n",
    "Recall that previously I reorganized the dataframe such that only categorical variables are considered objects. I will use this information to only one hot encode columns whose datatype is 'O' or object."
   ]
  },
  {
   "cell_type": "code",
   "execution_count": null,
   "metadata": {},
   "outputs": [],
   "source": [
    "cat_vars = []\n",
    "for col in df.columns:\n",
    "    if df[col].dtype=='O':\n",
    "        cat_vars.append(col)\n",
    "    else:\n",
    "        pass"
   ]
  },
  {
   "cell_type": "code",
   "execution_count": null,
   "metadata": {},
   "outputs": [],
   "source": [
    "df = pd.get_dummies(data=df,columns=cat_vars)"
   ]
  },
  {
   "cell_type": "code",
   "execution_count": null,
   "metadata": {},
   "outputs": [],
   "source": [
    "df.to_csv('transformed_dataframe2.csv',index=False)"
   ]
  },
  {
   "cell_type": "code",
   "execution_count": null,
   "metadata": {},
   "outputs": [],
   "source": []
  }
 ],
 "metadata": {
  "kernelspec": {
   "display_name": "Python 3",
   "language": "python",
   "name": "python3"
  },
  "language_info": {
   "codemirror_mode": {
    "name": "ipython",
    "version": 3
   },
   "file_extension": ".py",
   "mimetype": "text/x-python",
   "name": "python",
   "nbconvert_exporter": "python",
   "pygments_lexer": "ipython3",
   "version": "3.7.0"
  }
 },
 "nbformat": 4,
 "nbformat_minor": 2
}
